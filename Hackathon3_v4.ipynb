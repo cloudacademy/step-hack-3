{
  "cells": [
    {
      "cell_type": "markdown",
      "metadata": {
        "tags": [],
        "id": "ZjdDw4MIdgV8"
      },
      "source": [
        "# Fine-Tune a Generative AI Model for Bill text Summarization"
      ]
    },
    {
      "cell_type": "markdown",
      "metadata": {
        "id": "S-VKuIyYdgV-"
      },
      "source": [
        "In this notebook, we will fine-tune a pre-trained language model from Hugging Face to enhance summarization of legislative documents using the BillSum dataset. The dataset contains texts of US Congressional and California state bills, along with their corresponding summaries. Specifically, you will work with the [FLAN-T5](https://huggingface.co/docs/transformers/model_doc/flan-t5) model, a high-quality, instruction-tuned model capable of generating summaries out of the box.\n",
        "\n",
        "To optimize performance, you will perform full fine-tuning on the dataset, leveraging features such as the bill text (text) and bill summaries (summary), and evaluate the results using ROUGE metrics. Additionally, you will explore Parameter Efficient Fine-Tuning (PEFT), compare its performance to full fine-tuning, and analyze how the computational efficiency of PEFT balances its slightly lower performance"
      ]
    },
    {
      "cell_type": "markdown",
      "metadata": {
        "id": "BVA-lxMedgWA"
      },
      "source": [
        "## 1 - Set up Kernel, Load Required Dependencies, Dataset and LLM"
      ]
    },
    {
      "cell_type": "markdown",
      "metadata": {
        "tags": [],
        "id": "GbBBIBuhdgWB"
      },
      "source": [
        "### 1.1 - Enabling the GPU\n",
        "\n",
        "First, you'll need to enable GPUs for the notebook:\n",
        "\n",
        "- Navigate to Edit→Notebook Settings\n",
        "- select GPU from the Hardware Accelerator drop-down"
      ]
    },
    {
      "cell_type": "code",
      "source": [
        "from google.colab import drive\n",
        "drive.mount('/content/drive')"
      ],
      "metadata": {
        "colab": {
          "base_uri": "https://localhost:8080/"
        },
        "id": "oYArJNGTsHwZ",
        "outputId": "f826c86a-6485-4544-ca34-b12331f98c46"
      },
      "execution_count": null,
      "outputs": [
        {
          "output_type": "stream",
          "name": "stdout",
          "text": [
            "Drive already mounted at /content/drive; to attempt to forcibly remount, call drive.mount(\"/content/drive\", force_remount=True).\n"
          ]
        }
      ]
    },
    {
      "cell_type": "code",
      "source": [
        "path='/content/drive/My Drive/data/'"
      ],
      "metadata": {
        "id": "VQAovXgMsROY"
      },
      "execution_count": null,
      "outputs": []
    },
    {
      "cell_type": "code",
      "execution_count": null,
      "metadata": {
        "tags": [],
        "id": "6bWNIcLGdgWD"
      },
      "outputs": [],
      "source": [
        "%%capture\n",
        "# Upgrade pip to the latest version\n",
        "%pip install --upgrade pip\n",
        "\n",
        "# Install the latest version of PyTorch and TorchData\n",
        "%pip install --disable-pip-version-check torch torchdata --quiet\n",
        "\n",
        "# Install the latest versions of the required libraries\n",
        "%pip install \\\n",
        "    transformers \\\n",
        "    datasets \\\n",
        "    evaluate \\\n",
        "    rouge_score \\\n",
        "    loralib \\\n",
        "    peft --quiet\n"
      ]
    },
    {
      "cell_type": "code",
      "execution_count": null,
      "metadata": {
        "tags": [],
        "id": "kDb2zJ_MdgWE"
      },
      "outputs": [],
      "source": [
        "from datasets import load_dataset\n",
        "from transformers import AutoModelForSeq2SeqLM, AutoTokenizer, GenerationConfig, TrainingArguments, Trainer\n",
        "import torch\n",
        "import time\n",
        "import evaluate\n",
        "import pandas as pd\n",
        "import numpy as np"
      ]
    },
    {
      "cell_type": "markdown",
      "metadata": {
        "tags": [],
        "id": "pzdy0Qi9dgWE"
      },
      "source": [
        "### 1.2 - Load Dataset and LLM\n",
        "\n",
        "We are going to experiment with the [billsum](https://huggingface.co/datasets/FiscalNote/billsum) Hugging Face dataset.It contains summaries of US Congressional and California state bills, making it particularly useful for natural language processing tasks involving long-form text summarization."
      ]
    },
    {
      "cell_type": "code",
      "execution_count": null,
      "metadata": {
        "tags": [],
        "id": "bTSAo7J_dgWE",
        "colab": {
          "base_uri": "https://localhost:8080/"
        },
        "outputId": "fbcec949-1fe7-4746-a93c-314de12b2436"
      },
      "outputs": [
        {
          "output_type": "stream",
          "name": "stderr",
          "text": [
            "/usr/local/lib/python3.10/dist-packages/huggingface_hub/utils/_auth.py:94: UserWarning: \n",
            "The secret `HF_TOKEN` does not exist in your Colab secrets.\n",
            "To authenticate with the Hugging Face Hub, create a token in your settings tab (https://huggingface.co/settings/tokens), set it as secret in your Google Colab and restart your session.\n",
            "You will be able to reuse this secret in all of your notebooks.\n",
            "Please note that authentication is recommended but still optional to access public models or datasets.\n",
            "  warnings.warn(\n"
          ]
        },
        {
          "output_type": "execute_result",
          "data": {
            "text/plain": [
              "DatasetDict({\n",
              "    train: Dataset({\n",
              "        features: ['text', 'summary', 'title'],\n",
              "        num_rows: 18949\n",
              "    })\n",
              "    test: Dataset({\n",
              "        features: ['text', 'summary', 'title'],\n",
              "        num_rows: 3269\n",
              "    })\n",
              "    ca_test: Dataset({\n",
              "        features: ['text', 'summary', 'title'],\n",
              "        num_rows: 1237\n",
              "    })\n",
              "})"
            ]
          },
          "metadata": {},
          "execution_count": 6
        }
      ],
      "source": [
        "huggingface_dataset_name = \"FiscalNote/billsum\"\n",
        "\n",
        "dataset = load_dataset(huggingface_dataset_name)\n",
        "\n",
        "dataset"
      ]
    },
    {
      "cell_type": "markdown",
      "metadata": {
        "tags": [],
        "id": "0ri_YPe0dgWF"
      },
      "source": [
        "Load the pre-trained [FLAN-T5 model](https://huggingface.co/docs/transformers/model_doc/flan-t5) and its tokenizer directly from HuggingFace. Notice that you will be using the [small version](https://huggingface.co/google/flan-t5-base) of FLAN-T5. Setting `torch_dtype=torch.bfloat16` specifies the memory type to be used by this model."
      ]
    },
    {
      "cell_type": "code",
      "execution_count": null,
      "metadata": {
        "tags": [],
        "id": "vnu1O5KidgWF"
      },
      "outputs": [],
      "source": [
        "model_name='google/flan-t5-base'\n",
        "\n",
        "original_model = AutoModelForSeq2SeqLM.from_pretrained(model_name, torch_dtype=torch.bfloat16)\n",
        "tokenizer = AutoTokenizer.from_pretrained(model_name)"
      ]
    },
    {
      "cell_type": "markdown",
      "metadata": {
        "tags": [],
        "id": "txJfCruSdgWF"
      },
      "source": [
        "You can determine the total number of model parameters and identify which of them are trainable. The following function helps accomplish this, and for now, there's no need to dive into its specifics."
      ]
    },
    {
      "cell_type": "code",
      "source": [
        "def summarize_model_parameters(model):\n",
        "    total_params = sum(p.numel() for p in model.parameters())\n",
        "    trainable_params = sum(p.numel() for p in model.parameters() if p.requires_grad)\n",
        "    percentage_trainable = (trainable_params / total_params) * 100\n",
        "\n",
        "    return (\n",
        "        f\"Trainable Parameters: {trainable_params}\\n\"\n",
        "        f\"Total Parameters: {total_params}\\n\"\n",
        "        f\"Percentage of Trainable Parameters: {percentage_trainable:.2f}%\"\n",
        "    )\n",
        "\n",
        "# Example usage\n",
        "print(summarize_model_parameters(original_model))\n"
      ],
      "metadata": {
        "colab": {
          "base_uri": "https://localhost:8080/"
        },
        "id": "yEYXhfSflkuo",
        "outputId": "b269aecb-7a1e-429f-c34f-1ebf33450351"
      },
      "execution_count": null,
      "outputs": [
        {
          "output_type": "stream",
          "name": "stdout",
          "text": [
            "Trainable Parameters: 3538944\n",
            "Total Parameters: 251116800\n",
            "Percentage of Trainable Parameters: 1.41%\n"
          ]
        }
      ]
    },
    {
      "cell_type": "markdown",
      "metadata": {
        "tags": [],
        "id": "D6Ge0ch3dgWF"
      },
      "source": [
        "### 1.3 - Test the Model with Zero Shot Inferencing\n",
        "\n",
        "Evaluate the model using zero-shot inference on the BillSum dataset. While the model struggles to generate summaries as effectively as the provided baseline summaries, it does manage to extract some key information from the bill text. This indicates that the model has potential and can be fine-tuned to perform better on legislative summarization tasks."
      ]
    },
    {
      "cell_type": "code",
      "execution_count": null,
      "metadata": {
        "tags": [],
        "id": "1-spjj5ndgWF",
        "colab": {
          "base_uri": "https://localhost:8080/"
        },
        "outputId": "754a403d-5eb5-4755-cedb-69c77cc61d6c"
      },
      "outputs": [
        {
          "output_type": "stream",
          "name": "stdout",
          "text": [
            "---------------------------------------------------------------------------------------------------\n",
            "INPUT PROMPT:\n",
            "\n",
            "Summarize the following bill text:\n",
            "\n",
            "SECTION 1. SHORT TITLE.\n",
            "\n",
            "    This Act may be cited as the ``Afghanistan and Central Asian \n",
            "Republics Sustainable Food Production Act of 2001''.\n",
            "\n",
            "SEC. 2. FINDINGS.\n",
            "\n",
            "    Congress finds that--\n",
            "            (1) abject poverty and the inability to produce food, even \n",
            "        at the subsistence level, in the rural, mountainous areas of \n",
            "        Afghanistan and the Central Asian Republics have plagued the \n",
            "        region for over 20 years;\n",
            "            (2) extended food shortages in this region have resulted in \n",
            "        the consumption of seed supplies and breeding livestock \n",
            "        necessary to continue farming and food production;\n",
            "            (3) ongoing and violent conflict in the region has badly \n",
            "        damaged or destroyed the basic irrigation systems necessary for \n",
            "        food production;\n",
            "            (4) despite the delivery of over $185,000,000 in aid from \n",
            "        the United States in fiscal year 2001 toward humanitarian \n",
            "        assistance needs in Afghanistan, millions of people remain at \n",
            "        risk of severe malnutrition and starvation in the short- and \n",
            "        long-terms;\n",
            "            (5) on October 4, 2001, President George W. Bush announced \n",
            "        that the people of Afghanistan, and the governments of \n",
            "        Pakistan, Iran, Tajikistan, Uzbekistan, and Turkmenistan will \n",
            "        receive an additional $320,000,000 humanitarian assistance \n",
            "        package for emergency food and refugee assistance to address \n",
            "        the region's immediate needs during the war on terrorism; and\n",
            "            (6) in addition to addressing short-term emergency \n",
            "        assistance needs in Afghanistan and the mountainous regions of \n",
            "        the Central Asian Republics, addressing the long-term food \n",
            "        production and rural development issues in region will be \n",
            "        critical to attaining some stability in the region.\n",
            "\n",
            "SEC. 3. ASSISTANCE.\n",
            "\n",
            "    (a) Assistance.--The Administrator of the United States Agency for \n",
            "International Development shall provide assistance in accordance with \n",
            "the provisions of this Act to develop sustainable food production for \n",
            "Afghanistan and the mountainous regions of other countries of Central \n",
            "Asia through restocking seed, replacing breeding livestock, restoring \n",
            "basic irrigation systems, and providing access to credit for food \n",
            "production, processing, or marketing enterprises through rural \n",
            "microenterprise loan programs.\n",
            "    (b) Program Objectives.--\n",
            "            (1) In general.--In providing assistance under subsection \n",
            "        (a), the Administrator shall provide only grants to \n",
            "        nongovernmental organizations for the purpose of carrying out \n",
            "        the activities described in paragraph (2) in Afghanistan and \n",
            "        the other countries of Central Asia in accordance with this \n",
            "        section.\n",
            "            (2) Activities supported.--\n",
            "                    (A) In general.--Among the activities for which the \n",
            "                Administrator may provide grants shall be--\n",
            "                            (i) procurement of seed for local food \n",
            "                        production;\n",
            "                            (ii) replacement of breeding livestock;\n",
            "                            (iii) restoration of basic irrigation \n",
            "                        systems;\n",
            "                            (iv) establishment of access to credit for \n",
            "                        food production, processing, or marketing \n",
            "                        enterprises through rural microenterprise loan \n",
            "                        programs; and\n",
            "                            (v) providing technical assistance.\n",
            "                    (B) Limitation.--Amounts received under a grant \n",
            "                shall not be used to carry out activities related to \n",
            "                emergencies or disasters.\n",
            "            (3) Applications.--A nongovernmental organization that \n",
            "        desires to receive a grant under this section shall submit an \n",
            "        application for the grant to the Administrator. The application \n",
            "        should be developed by the nongovernmental organization in \n",
            "        close consultation with local indigenous entities, or \n",
            "        associated persons of a village or villages, located in the \n",
            "        country within which the activities supported by the grant will \n",
            "        be carried out.\n",
            "            (4) Implementation of program objectives.--In carrying out \n",
            "        the objectives of paragraph (1), the Administrator shall--\n",
            "                    (A) coordinate the activities with governments of \n",
            "                other countries authorized to receive grants under this \n",
            "                section, local and regional governments of such \n",
            "                countries, nongovernmental organizations operating in \n",
            "                such countries, and private donors;\n",
            "                    (B) provide minimal supplementary grants for \n",
            "                associated administrative costs to the national and \n",
            "                regional governments of the country for which grants to \n",
            "                nongovernmental organizations are approved under this \n",
            "                section;\n",
            "                    (C) provide oversight of grants disbursed under \n",
            "                this section, including procedures under which a \n",
            "                nongovernmental organization that misuses grant funds \n",
            "                or otherwise fails to adequately carry out the \n",
            "                activities described in paragraph (2) should be \n",
            "                disqualified from receiving additional grants under \n",
            "                this section for not less than 1 year; and\n",
            "                    (D) coordinate efforts with national, regional, and \n",
            "                local government officials to conduct an annual review \n",
            "                of disbursement of grant funds and the effectiveness of \n",
            "                activities carried out with grant funds.\n",
            "    (c) Restriction Relating to the Use of United States Funds in \n",
            "Afghanistan.--Funds made available under this Act shall not be used \n",
            "during a fiscal year for any activity in Afghanistan which is described \n",
            "in subsection (b)(2) unless the Secretary of State certifies for the \n",
            "fiscal year that there has been substantial progress made toward the \n",
            "establishment of a government in Afghanistan that meets the following \n",
            "requirements:\n",
            "            (1) The government includes broad representation from the \n",
            "        diverse ethnic and religious groups of Afghanistan, including \n",
            "        both men and women from such groups.\n",
            "            (2) The government does not sponsor terrorism or harbor \n",
            "        terrorists.\n",
            "            (3) The government demonstrates a strong and determined \n",
            "        commitment to eliminating the production of opium-producing \n",
            "        poppies.\n",
            "            (4) The government meets the conditions outlined in the \n",
            "        United Nations Universal Declaration of Human Rights.\n",
            "\n",
            "SEC. 4. ADMINISTRATION.\n",
            "\n",
            "    It is the sense of the Congress that the Administrator should \n",
            "establish--\n",
            "            (1) criteria for the selection of projects to receive \n",
            "        support under this Act;\n",
            "            (2) standards and criteria regarding qualifications of \n",
            "        recipients of such support;\n",
            "            (3) such rules and procedures as may be necessary for \n",
            "        projects that receive support under this Act;\n",
            "            (4) such rules and procedures as may be necessary to ensure \n",
            "        transparency and accountability in the grant-making process; \n",
            "        and\n",
            "            (5) criteria for an annual review process for all projects \n",
            "        receiving grants.\n",
            "\n",
            "SEC. 5. REPORTS TO CONGRESS.\n",
            "\n",
            "    (a) Annual Reports by Administrator.--\n",
            "            (1) In general.--Not later than 1 year after the date of \n",
            "        the enactment of this Act, and annually thereafter for the \n",
            "        subsequent 4 fiscal years, the Administrator shall submit to \n",
            "        the appropriate committees of Congress a report on the \n",
            "        implementation of this Act.\n",
            "            (2) Report elements.--The report shall include a \n",
            "        description of--\n",
            "                    (A) the programs, projects, and activities \n",
            "                supported by grants made under this Act;\n",
            "                    (B) the criteria that have been established that \n",
            "                are used to determine the programs and activities that \n",
            "                should be assisted by grants made under this Act;\n",
            "                    (C) an assessment regarding the extent to which the \n",
            "                Government of Afghanistan does or does not meet the \n",
            "                requirements of section 3(c) for that fiscal year; and\n",
            "                    (D) with respect to a fiscal year for which \n",
            "                Afghanistan is eligible to receive a grant under \n",
            "                section 3, the impact of programming on food production \n",
            "                and rural development in Afghanistan.\n",
            "    (b) GAO Report on Effectiveness.--Not later than 2 years after the \n",
            "date of the enactment of this Act, the Comptroller General of the \n",
            "United States shall submit to the appropriate committees of Congress a \n",
            "report evaluating the effectiveness of grants made under this Act, \n",
            "including the effectiveness of the programs, projects, and activities \n",
            "described in subsection (a)(2)(A) in building sustainable food \n",
            "production and rural microenterprise loans in the countries authorized \n",
            "to receive grants under this section.\n",
            "\n",
            "SEC. 6. AUTHORIZATION OF APPROPRIATIONS.\n",
            "\n",
            "    In addition to any other funds authorized to be appropriated for \n",
            "bilateral programs related to sustainable food production and \n",
            "microenterprise systems, there is authorized to be appropriated to the \n",
            "Administrator $25,000,000 for fiscal year 2002 and $50,000,000 for each \n",
            "of the fiscal years 2003 through 2006 to carry out this Act. Of the \n",
            "amount appropriated pursuant to the authorization of appropriations \n",
            "under the preceding sentence for a fiscal year 60 percent should be \n",
            "designated for grants for Afghanistan.\n",
            "\n",
            "SEC. 7. DEFINITIONS.\n",
            "\n",
            "    In this Act:\n",
            "            (1) Administrator.--The term ``Administrator'' means the \n",
            "        Administrator of the United States Agency for International \n",
            "        Development.\n",
            "            (2) Appropriate committees.--The term ``appropriate \n",
            "        committees'' means the Committee on Foreign Relations and the \n",
            "        Committee on Appropriations of the Senate and the Committee on \n",
            "        International Relations and the Committee on Appropriations of \n",
            "        the House of Representatives.\n",
            "            (3) Other countries of central asia.--The term ``other \n",
            "        countries of Central Asia'' means Kyrgyzstan, Pakistan, \n",
            "        Tajikistan, Turkmenistan, and Uzbekistan.\n",
            "\n",
            "Summary:\n",
            "\n",
            "---------------------------------------------------------------------------------------------------\n",
            "BASELINE HUMAN SUMMARY:\n",
            "Afghanistan and Central Asian Republics Sustainable Food Production Act of 2001 - Directs the Administrator of the United States Agency for International Development to provide financial assistance to nongovernmental organizations carrying out rural developmental activities in Afghanistan, Kyrgyzstan, Pakistan, Tajikistan, Turkmenistan, and Uzbekistan. Stipulates the aid shall be used for: (1) restocking seed; (2) replacing breeding livestock; (3) restoring basic irrigation systems; (4) providing access to credit for food production, processing or marketing enterprises through rural microenterprise loan programs; and (5) technical assistance. Places human rights and other conditions on the government of Afghanistan for projects to be funded in Afghanistan.\n",
            "\n",
            "---------------------------------------------------------------------------------------------------\n",
            "MODEL GENERATION - ZERO SHOT:\n",
            "A bill to amend title 10, United States Code, to provide for the development of sustainable food production in Afghanistan and the mountainous regions of Central Asia, and for other purposes.\n"
          ]
        }
      ],
      "source": [
        "index = 100\n",
        "\n",
        "bill_text = dataset['test'][index]['text']\n",
        "summary = dataset['test'][index]['summary']\n",
        "\n",
        "prompt = f\"\"\"\n",
        "Summarize the following bill text:\n",
        "\n",
        "{bill_text}\n",
        "\n",
        "Summary:\n",
        "\"\"\"\n",
        "\n",
        "inputs = tokenizer(prompt, return_tensors='pt')\n",
        "output = tokenizer.decode(\n",
        "    original_model.generate(\n",
        "        inputs[\"input_ids\"],\n",
        "        max_new_tokens=200,\n",
        "    )[0],\n",
        "    skip_special_tokens=True\n",
        ")\n",
        "\n",
        "dash_line = '-'.join('' for x in range(100))\n",
        "print(dash_line)\n",
        "print(f'INPUT PROMPT:\\n{prompt}')\n",
        "print(dash_line)\n",
        "print(f'BASELINE HUMAN SUMMARY:\\n{summary}\\n')\n",
        "print(dash_line)\n",
        "print(f'MODEL GENERATION - ZERO SHOT:\\n{output}')"
      ]
    },
    {
      "cell_type": "markdown",
      "metadata": {
        "tags": [],
        "id": "YGzdSiOedgWG"
      },
      "source": [
        "<a name='2'></a>\n",
        "## 2 - Perform Full Fine-Tuning"
      ]
    },
    {
      "cell_type": "markdown",
      "metadata": {
        "tags": [],
        "id": "QAIM4S7udgWG"
      },
      "source": [
        "###2.1 - Preprocess the BillSum Dataset\n",
        "To prepare the BillSum dataset for training, you need to convert the bill text-summary pairs into explicit instructions for the language model. Prepend an instruction to the start of the bill text with Summarize the following bill text and to the start of the summary with Summary as follows:\n",
        "\n",
        "Training prompt (bill text):\n",
        "```\n",
        "Summarize the following bill text.\n",
        "\n",
        "    This is the full text of a legislative bill.\n",
        "    \n",
        "Summary:\n",
        "```\n",
        "\n",
        "Training response (summary):\n",
        "```\n",
        "This is a concise summary of the bill.\n",
        "```\n",
        "\n",
        "Then preprocess the prompt-response dataset into tokens and pull out their `input_ids` (1 per token)."
      ]
    },
    {
      "cell_type": "code",
      "execution_count": null,
      "metadata": {
        "tags": [],
        "id": "Em8P5qJgdgWG",
        "colab": {
          "base_uri": "https://localhost:8080/",
          "height": 49,
          "referenced_widgets": [
            "07b1b8d9161f4343aae74857b78a14bd",
            "fe391ca29cdc4918bdc8d65503f90a2e",
            "d01257939a2643bbac436fdb585e2924",
            "d8e977bd2698451a8a9fe3552162d8ce",
            "b9022e013f884bf2afc2d3176daabb1e",
            "e93f2f9c8dda40e29bf3ea5eabbc74f7",
            "28cb9579bbd64939b56f89c58002d300",
            "68fecca900364f16bd50b026282c6b90",
            "ad7d6e938b8d4f12a2a67fbb6414030d",
            "8a1210ccf4f94b32952720e14eb136c4",
            "87bd47212d72448fa4ec078b0463c7d4"
          ]
        },
        "outputId": "d850f049-4115-4145-e96b-64720f21b13b"
      },
      "outputs": [
        {
          "output_type": "display_data",
          "data": {
            "text/plain": [
              "Map:   0%|          | 0/3269 [00:00<?, ? examples/s]"
            ],
            "application/vnd.jupyter.widget-view+json": {
              "version_major": 2,
              "version_minor": 0,
              "model_id": "07b1b8d9161f4343aae74857b78a14bd"
            }
          },
          "metadata": {}
        }
      ],
      "source": [
        "def tokenize_function(example):\n",
        "    start_prompt = 'Summarize the following bill text.\\n\\n'\n",
        "    end_prompt = '\\n\\nSummary: '\n",
        "    prompt = [start_prompt + bill_text + end_prompt for bill_text in example[\"text\"]]\n",
        "    example['input_ids'] = tokenizer(prompt, padding=\"max_length\", truncation=True, return_tensors=\"pt\").input_ids\n",
        "    example['labels'] = tokenizer(example[\"summary\"], padding=\"max_length\", truncation=True, return_tensors=\"pt\").input_ids\n",
        "\n",
        "    return example\n",
        "\n",
        "# The dataset actually contains 3 diff splits: train, test, ca_test .\n",
        "# The tokenize_function code is handling all data across all splits in batches.\n",
        "tokenized_datasets = dataset.map(tokenize_function, batched=True)\n",
        "tokenized_datasets = tokenized_datasets.remove_columns(['text', 'summary', 'title',])"
      ]
    },
    {
      "cell_type": "markdown",
      "metadata": {
        "tags": [],
        "id": "lbbtqPDqdgWG"
      },
      "source": [
        "To save some time in the lab, we will subsample the dataset:"
      ]
    },
    {
      "cell_type": "code",
      "source": [
        "def keep_every_50th(example, index):\n",
        "    # Keep only every 50th example\n",
        "    return index % 50 == 0\n",
        "\n",
        "# Filter the dataset to retain every 50th example\n",
        "tokenized_datasets = tokenized_datasets.filter(keep_every_50th, with_indices=True)\n"
      ],
      "metadata": {
        "colab": {
          "base_uri": "https://localhost:8080/",
          "height": 81,
          "referenced_widgets": [
            "36841176845045c3b7453851bd8a18f7",
            "18c2c3901edb43e998f362d99d7c0d20",
            "20468aad6c1b475ba95636b5ed4434a4",
            "c691f9ddcc1740018a6381a0fa5a7152",
            "be697cf7590543bf881171eee083bd1e",
            "3590d27f478248f59ccd2d7f188564e6",
            "e98723d411204fcc926f6abd209503ea",
            "07770c8777f8431eaff5f0512d05254f",
            "9b5d806814514598af9886bdc7092752",
            "e3821a3663d5423586e1e00af8b8da3c",
            "34b430e37ea34c49ac77a0e58974d430",
            "d5bf9c335b4941aa95a99dec7a5a53a7",
            "5ca62c88c57040289b301c11c765bee3",
            "6139fcda4d6c4d44ad89bac02d394672",
            "5bef130adb7c4b9295040e3bae62a1cc",
            "7cff0d7fc9644cfbad555aa0852b49f8",
            "160c8c4ab7bc411384fed8f409052457",
            "0439ba2ac0724d00885d299adb9b5834",
            "c5c68be89e9349178fb11d4d22f2144c",
            "00b4b4a230a643f797f3e296a96ca4dc",
            "24f31ddd8d6a4de1b769bb0531959fdb",
            "bc71eccc857041a0966d9b541f96dea3"
          ]
        },
        "id": "dIp-iNiPrMPM",
        "outputId": "8bfafde9-1e17-4451-876f-cd4252dc6663"
      },
      "execution_count": null,
      "outputs": [
        {
          "output_type": "display_data",
          "data": {
            "text/plain": [
              "Filter:   0%|          | 0/18949 [00:00<?, ? examples/s]"
            ],
            "application/vnd.jupyter.widget-view+json": {
              "version_major": 2,
              "version_minor": 0,
              "model_id": "36841176845045c3b7453851bd8a18f7"
            }
          },
          "metadata": {}
        },
        {
          "output_type": "display_data",
          "data": {
            "text/plain": [
              "Filter:   0%|          | 0/3269 [00:00<?, ? examples/s]"
            ],
            "application/vnd.jupyter.widget-view+json": {
              "version_major": 2,
              "version_minor": 0,
              "model_id": "d5bf9c335b4941aa95a99dec7a5a53a7"
            }
          },
          "metadata": {}
        }
      ]
    },
    {
      "cell_type": "markdown",
      "metadata": {
        "tags": [],
        "id": "buN96og9dgWG"
      },
      "source": [
        "Check the shapes of all three parts of the dataset:"
      ]
    },
    {
      "cell_type": "code",
      "execution_count": null,
      "metadata": {
        "tags": [],
        "id": "sUJ53IlZdgWG",
        "colab": {
          "base_uri": "https://localhost:8080/"
        },
        "outputId": "80a1cb4e-79da-43e4-a79b-cb39409dfda3"
      },
      "outputs": [
        {
          "output_type": "stream",
          "name": "stdout",
          "text": [
            "Shapes of the datasets:\n",
            "Training: (379, 2)\n",
            "ca_test: (25, 2)\n",
            "Test: (66, 2)\n",
            "DatasetDict({\n",
            "    train: Dataset({\n",
            "        features: ['input_ids', 'labels'],\n",
            "        num_rows: 379\n",
            "    })\n",
            "    test: Dataset({\n",
            "        features: ['input_ids', 'labels'],\n",
            "        num_rows: 66\n",
            "    })\n",
            "    ca_test: Dataset({\n",
            "        features: ['input_ids', 'labels'],\n",
            "        num_rows: 25\n",
            "    })\n",
            "})\n"
          ]
        }
      ],
      "source": [
        "print(f\"Shapes of the datasets:\")\n",
        "print(f\"Training: {tokenized_datasets['train'].shape}\")\n",
        "print(f\"ca_test: {tokenized_datasets['ca_test'].shape}\")\n",
        "print(f\"Test: {tokenized_datasets['test'].shape}\")\n",
        "\n",
        "print(tokenized_datasets)"
      ]
    },
    {
      "cell_type": "markdown",
      "metadata": {
        "id": "IBWTQN-tdgWH"
      },
      "source": [
        "The output dataset is ready for fine-tuning."
      ]
    },
    {
      "cell_type": "markdown",
      "metadata": {
        "id": "JNhLhk9kdgWH"
      },
      "source": [
        "### 2.2 - Fine-Tune the Model with the Preprocessed Dataset\n",
        "Leverage the Hugging Face Trainer class (refer to the documentation [here](https://huggingface.co/docs/transformers/main_classes/trainer)) to fine-tune the model. Use the preprocessed dataset and initialize the trainer with the original model. The training parameters have been determined experimentally, so there’s no need to dive into their specifics for now."
      ]
    },
    {
      "cell_type": "code",
      "execution_count": null,
      "metadata": {
        "tags": [],
        "id": "ufYeXGpOdgWH"
      },
      "outputs": [],
      "source": [
        "output_dir = f'{path}bill_text-summary-training-{str(int(time.time()))}'\n",
        "\n",
        "training_args = TrainingArguments(\n",
        "    output_dir=output_dir,\n",
        "    report_to=\"none\",\n",
        "    learning_rate=1e-5,\n",
        "    num_train_epochs=1,\n",
        "    weight_decay=0.01,\n",
        "    logging_steps=10,\n",
        "    max_steps=10\n",
        ")\n",
        "\n",
        "trainer = Trainer(\n",
        "    model=original_model,\n",
        "    args=training_args,\n",
        "    train_dataset=tokenized_datasets['train'],\n",
        "    eval_dataset=tokenized_datasets['test']\n",
        ")"
      ]
    },
    {
      "cell_type": "code",
      "execution_count": null,
      "metadata": {
        "tags": [],
        "id": "JdVUaYAkdgWH",
        "colab": {
          "base_uri": "https://localhost:8080/",
          "height": 181
        },
        "outputId": "efe6a7f7-4094-4c80-b612-dc41bde8595d"
      },
      "outputs": [
        {
          "output_type": "stream",
          "name": "stderr",
          "text": [
            "Passing a tuple of `past_key_values` is deprecated and will be removed in Transformers v4.48.0. You should pass an instance of `EncoderDecoderCache` instead, e.g. `past_key_values=EncoderDecoderCache.from_legacy_cache(past_key_values)`.\n"
          ]
        },
        {
          "output_type": "display_data",
          "data": {
            "text/plain": [
              "<IPython.core.display.HTML object>"
            ],
            "text/html": [
              "\n",
              "    <div>\n",
              "      \n",
              "      <progress value='10' max='10' style='width:300px; height:20px; vertical-align: middle;'></progress>\n",
              "      [10/10 00:32, Epoch 0/1]\n",
              "    </div>\n",
              "    <table border=\"1\" class=\"dataframe\">\n",
              "  <thead>\n",
              " <tr style=\"text-align: left;\">\n",
              "      <th>Step</th>\n",
              "      <th>Training Loss</th>\n",
              "    </tr>\n",
              "  </thead>\n",
              "  <tbody>\n",
              "    <tr>\n",
              "      <td>10</td>\n",
              "      <td>29.175000</td>\n",
              "    </tr>\n",
              "  </tbody>\n",
              "</table><p>"
            ]
          },
          "metadata": {}
        },
        {
          "output_type": "execute_result",
          "data": {
            "text/plain": [
              "TrainOutput(global_step=10, training_loss=29.175, metrics={'train_runtime': 36.3918, 'train_samples_per_second': 2.198, 'train_steps_per_second': 0.275, 'total_flos': 54780588195840.0, 'train_loss': 29.175, 'epoch': 0.20833333333333334})"
            ]
          },
          "metadata": {},
          "execution_count": 16
        }
      ],
      "source": [
        "trainer.train()"
      ]
    },
    {
      "cell_type": "markdown",
      "source": [
        "loading the fine-tuned model"
      ],
      "metadata": {
        "id": "_m5lwkyY9Tow"
      }
    },
    {
      "cell_type": "code",
      "source": [
        "fine_tuned_model=AutoModelForSeq2SeqLM.from_pretrained(\"/content/drive/MyDrive/data/bill_text-summary-training-1736346737/checkpoint-10\", torch_dtype=torch.bfloat16)"
      ],
      "metadata": {
        "id": "Mg4ongT5w2WP"
      },
      "execution_count": null,
      "outputs": []
    },
    {
      "cell_type": "markdown",
      "metadata": {
        "id": "0IN6PwMvdgWN"
      },
      "source": [
        "<a name='2.3'></a>\n",
        "### 2.3 - Evaluate the Model Qualitatively (Human Evaluation)\n",
        "\n",
        "As with many GenAI applications, a qualitative approach where you ask yourself the question \"Is my model behaving the way it is supposed to?\" is usually a good starting point. In the example below (the same one we started this notebook with), you can see how the fine-tuned model is able to create a reasonable summary of the dialogue compared to the original inability to understand what is being asked of the model."
      ]
    },
    {
      "cell_type": "code",
      "execution_count": null,
      "metadata": {
        "tags": [],
        "id": "0mfy6U_fdgWN",
        "colab": {
          "base_uri": "https://localhost:8080/"
        },
        "outputId": "cc9ff719-52e9-4b3f-df7c-027648be5e80"
      },
      "outputs": [
        {
          "output_type": "stream",
          "name": "stdout",
          "text": [
            "---------------------------------------------------------------------------------------------------\n",
            "BASELINE HUMAN SUMMARY:\n",
            "Afghanistan and Central Asian Republics Sustainable Food Production Act of 2001 - Directs the Administrator of the United States Agency for International Development to provide financial assistance to nongovernmental organizations carrying out rural developmental activities in Afghanistan, Kyrgyzstan, Pakistan, Tajikistan, Turkmenistan, and Uzbekistan. Stipulates the aid shall be used for: (1) restocking seed; (2) replacing breeding livestock; (3) restoring basic irrigation systems; (4) providing access to credit for food production, processing or marketing enterprises through rural microenterprise loan programs; and (5) technical assistance. Places human rights and other conditions on the government of Afghanistan for projects to be funded in Afghanistan.\n",
            "---------------------------------------------------------------------------------------------------\n",
            "ORIGINAL MODEL:\n",
            "A bill to establish the United States Agency for International Development as the administrator of the United States Agency for International Development, and for other purposes.\n",
            "---------------------------------------------------------------------------------------------------\n",
            "Fine_Tuned MODEL:\n",
            "A bill to amend title 10, United States Code, to provide for the development of sustainable food production in Afghanistan and the mountainous regions of Central Asia, and for other purposes.\n"
          ]
        }
      ],
      "source": [
        "index = 100\n",
        "bill_text = dataset['test'][index]['text']\n",
        "human_baseline_summary = dataset['test'][index]['summary']\n",
        "\n",
        "prompt = f\"\"\"\n",
        "Summarize the following bill text:\n",
        "\n",
        "{bill_text}\n",
        "\n",
        "Summary:\n",
        "\"\"\"\n",
        "\n",
        "\n",
        "input_ids = tokenizer(prompt, return_tensors=\"pt\").input_ids\n",
        "input_ids = input_ids.to(original_model.device) # Move input_ids to the same device as the model\n",
        "original_model_outputs = original_model.generate(input_ids=input_ids, generation_config=GenerationConfig(max_new_tokens=200, num_beams=1))\n",
        "original_model_text_output = tokenizer.decode(original_model_outputs[0], skip_special_tokens=True)\n",
        "\n",
        "input_ids = tokenizer(prompt, return_tensors=\"pt\").input_ids\n",
        "input_ids = input_ids.to(fine_tuned_model.device)\n",
        "fine_tuned_model_outputs = fine_tuned_model.generate(input_ids=input_ids, generation_config=GenerationConfig(max_new_tokens=200, num_beams=1))\n",
        "fine_tuned_model_text_output = tokenizer.decode(fine_tuned_model_outputs[0], skip_special_tokens=True)\n",
        "\n",
        "print(dash_line)\n",
        "print(f'BASELINE HUMAN SUMMARY:\\n{human_baseline_summary}')\n",
        "print(dash_line)\n",
        "print(f'ORIGINAL MODEL:\\n{original_model_text_output}')\n",
        "print(dash_line)\n",
        "print(f'Fine_Tuned MODEL:\\n{fine_tuned_model_text_output}')"
      ]
    },
    {
      "cell_type": "markdown",
      "metadata": {
        "id": "Wg6KbwYtdgWO"
      },
      "source": [
        "### 2.4 - Quantitative Evaluation of the Model (Using the ROUGE Metric)\n",
        "\n",
        "The [ROUGE metric](https://en.wikipedia.org/wiki/ROUGE_(metric)) is a widely used method for evaluating the quality of generated summaries. It measures how well a model's summarizations align with a \"baseline\" summary, typically written by a human. While not without limitations, ROUGE provides a useful indication of the improvements in summarization performance achieved through fine-tuning."
      ]
    },
    {
      "cell_type": "code",
      "execution_count": null,
      "metadata": {
        "tags": [],
        "id": "MILbrmO9dgWO"
      },
      "outputs": [],
      "source": [
        "rouge = evaluate.load('rouge')"
      ]
    },
    {
      "cell_type": "markdown",
      "metadata": {
        "id": "C3PcJulKdgWO"
      },
      "source": [
        "Generate the outputs for the sample of the test dataset (only 10 bill text and summaries to save time), and save the results."
      ]
    },
    {
      "cell_type": "code",
      "execution_count": null,
      "metadata": {
        "tags": [],
        "id": "-u7MHj53dgWO",
        "colab": {
          "base_uri": "https://localhost:8080/",
          "height": 449
        },
        "outputId": "86cd8362-b342-4d19-cd6f-9d88cc1867bd"
      },
      "outputs": [
        {
          "output_type": "execute_result",
          "data": {
            "text/plain": [
              "                            human_baseline_summaries  \\\n",
              "0  Amends the Water Resources Development Act of ...   \n",
              "1  Federal Forage Fee Act of 1993 - Subjects graz...   \n",
              "2  .  Merchant Marine of World War II Congression...   \n",
              "3  Small Business Modernization Act of 2004 - Ame...   \n",
              "4  Fair Access to Investment Research Act of 2016...   \n",
              "5  Prescription Drug Monitoring Act of 2016 This ...   \n",
              "6  Strategic Gasoline and Fuel Reserve Act of 200...   \n",
              "7  Special Agent Scott K. Carey Public Safety Off...   \n",
              "8  Promoting Financial Literacy and Economic Oppo...   \n",
              "9  Amends the Tariff Act of 1930 to define \"deliv...   \n",
              "\n",
              "                            original_model_summaries  \\\n",
              "0  A bill to amend title 106- 69 of the United St...   \n",
              "1  SECTION 1. SECTION 1. FEE. SECTION 2. SECTION ...   \n",
              "2               Congressional Gold Medal Act of 2015   \n",
              "3  A bill to amend the Internal Revenue Code of 1...   \n",
              "4  SECTION 2. This Act may be cited as  the Fair ...   \n",
              "5  This Act shall provide for the establishment o...   \n",
              "6                                               SEC.   \n",
              "7  A bill to amend title 1217 of the Omnibus Crim...   \n",
              "8  This Act may be cited as the 'Promoting Financ...   \n",
              "9                                                ...   \n",
              "\n",
              "                          fine_tuned_model_summaries  \n",
              "0  A bill to amend title I of the Water Resources...  \n",
              "1  A bill to amend title 10, United States Code, ...  \n",
              "2  A bill to provide for the award of a gold meda...  \n",
              "3  A bill to amend title 38, United States Code, ...  \n",
              "4  A bill to amend title 17, United States Code, ...  \n",
              "5  A bill to provide for the establishment of a d...  \n",
              "6  A bill to amend title I of the Energy Policy a...  \n",
              "7  A bill to amend title 1213 of the Omnibus Crim...  \n",
              "8  A bill to amend chapter 45 of the Internal Rev...  \n",
              "9  A bill to amend section 801 of the Tariff Act ...  "
            ],
            "text/html": [
              "\n",
              "  <div id=\"df-dc2af4b9-bb03-45d1-8aec-0e1cee6afba8\" class=\"colab-df-container\">\n",
              "    <div>\n",
              "<style scoped>\n",
              "    .dataframe tbody tr th:only-of-type {\n",
              "        vertical-align: middle;\n",
              "    }\n",
              "\n",
              "    .dataframe tbody tr th {\n",
              "        vertical-align: top;\n",
              "    }\n",
              "\n",
              "    .dataframe thead th {\n",
              "        text-align: right;\n",
              "    }\n",
              "</style>\n",
              "<table border=\"1\" class=\"dataframe\">\n",
              "  <thead>\n",
              "    <tr style=\"text-align: right;\">\n",
              "      <th></th>\n",
              "      <th>human_baseline_summaries</th>\n",
              "      <th>original_model_summaries</th>\n",
              "      <th>fine_tuned_model_summaries</th>\n",
              "    </tr>\n",
              "  </thead>\n",
              "  <tbody>\n",
              "    <tr>\n",
              "      <th>0</th>\n",
              "      <td>Amends the Water Resources Development Act of ...</td>\n",
              "      <td>A bill to amend title 106- 69 of the United St...</td>\n",
              "      <td>A bill to amend title I of the Water Resources...</td>\n",
              "    </tr>\n",
              "    <tr>\n",
              "      <th>1</th>\n",
              "      <td>Federal Forage Fee Act of 1993 - Subjects graz...</td>\n",
              "      <td>SECTION 1. SECTION 1. FEE. SECTION 2. SECTION ...</td>\n",
              "      <td>A bill to amend title 10, United States Code, ...</td>\n",
              "    </tr>\n",
              "    <tr>\n",
              "      <th>2</th>\n",
              "      <td>.  Merchant Marine of World War II Congression...</td>\n",
              "      <td>Congressional Gold Medal Act of 2015</td>\n",
              "      <td>A bill to provide for the award of a gold meda...</td>\n",
              "    </tr>\n",
              "    <tr>\n",
              "      <th>3</th>\n",
              "      <td>Small Business Modernization Act of 2004 - Ame...</td>\n",
              "      <td>A bill to amend the Internal Revenue Code of 1...</td>\n",
              "      <td>A bill to amend title 38, United States Code, ...</td>\n",
              "    </tr>\n",
              "    <tr>\n",
              "      <th>4</th>\n",
              "      <td>Fair Access to Investment Research Act of 2016...</td>\n",
              "      <td>SECTION 2. This Act may be cited as  the Fair ...</td>\n",
              "      <td>A bill to amend title 17, United States Code, ...</td>\n",
              "    </tr>\n",
              "    <tr>\n",
              "      <th>5</th>\n",
              "      <td>Prescription Drug Monitoring Act of 2016 This ...</td>\n",
              "      <td>This Act shall provide for the establishment o...</td>\n",
              "      <td>A bill to provide for the establishment of a d...</td>\n",
              "    </tr>\n",
              "    <tr>\n",
              "      <th>6</th>\n",
              "      <td>Strategic Gasoline and Fuel Reserve Act of 200...</td>\n",
              "      <td>SEC.</td>\n",
              "      <td>A bill to amend title I of the Energy Policy a...</td>\n",
              "    </tr>\n",
              "    <tr>\n",
              "      <th>7</th>\n",
              "      <td>Special Agent Scott K. Carey Public Safety Off...</td>\n",
              "      <td>A bill to amend title 1217 of the Omnibus Crim...</td>\n",
              "      <td>A bill to amend title 1213 of the Omnibus Crim...</td>\n",
              "    </tr>\n",
              "    <tr>\n",
              "      <th>8</th>\n",
              "      <td>Promoting Financial Literacy and Economic Oppo...</td>\n",
              "      <td>This Act may be cited as the 'Promoting Financ...</td>\n",
              "      <td>A bill to amend chapter 45 of the Internal Rev...</td>\n",
              "    </tr>\n",
              "    <tr>\n",
              "      <th>9</th>\n",
              "      <td>Amends the Tariff Act of 1930 to define \"deliv...</td>\n",
              "      <td>...</td>\n",
              "      <td>A bill to amend section 801 of the Tariff Act ...</td>\n",
              "    </tr>\n",
              "  </tbody>\n",
              "</table>\n",
              "</div>\n",
              "    <div class=\"colab-df-buttons\">\n",
              "\n",
              "  <div class=\"colab-df-container\">\n",
              "    <button class=\"colab-df-convert\" onclick=\"convertToInteractive('df-dc2af4b9-bb03-45d1-8aec-0e1cee6afba8')\"\n",
              "            title=\"Convert this dataframe to an interactive table.\"\n",
              "            style=\"display:none;\">\n",
              "\n",
              "  <svg xmlns=\"http://www.w3.org/2000/svg\" height=\"24px\" viewBox=\"0 -960 960 960\">\n",
              "    <path d=\"M120-120v-720h720v720H120Zm60-500h600v-160H180v160Zm220 220h160v-160H400v160Zm0 220h160v-160H400v160ZM180-400h160v-160H180v160Zm440 0h160v-160H620v160ZM180-180h160v-160H180v160Zm440 0h160v-160H620v160Z\"/>\n",
              "  </svg>\n",
              "    </button>\n",
              "\n",
              "  <style>\n",
              "    .colab-df-container {\n",
              "      display:flex;\n",
              "      gap: 12px;\n",
              "    }\n",
              "\n",
              "    .colab-df-convert {\n",
              "      background-color: #E8F0FE;\n",
              "      border: none;\n",
              "      border-radius: 50%;\n",
              "      cursor: pointer;\n",
              "      display: none;\n",
              "      fill: #1967D2;\n",
              "      height: 32px;\n",
              "      padding: 0 0 0 0;\n",
              "      width: 32px;\n",
              "    }\n",
              "\n",
              "    .colab-df-convert:hover {\n",
              "      background-color: #E2EBFA;\n",
              "      box-shadow: 0px 1px 2px rgba(60, 64, 67, 0.3), 0px 1px 3px 1px rgba(60, 64, 67, 0.15);\n",
              "      fill: #174EA6;\n",
              "    }\n",
              "\n",
              "    .colab-df-buttons div {\n",
              "      margin-bottom: 4px;\n",
              "    }\n",
              "\n",
              "    [theme=dark] .colab-df-convert {\n",
              "      background-color: #3B4455;\n",
              "      fill: #D2E3FC;\n",
              "    }\n",
              "\n",
              "    [theme=dark] .colab-df-convert:hover {\n",
              "      background-color: #434B5C;\n",
              "      box-shadow: 0px 1px 3px 1px rgba(0, 0, 0, 0.15);\n",
              "      filter: drop-shadow(0px 1px 2px rgba(0, 0, 0, 0.3));\n",
              "      fill: #FFFFFF;\n",
              "    }\n",
              "  </style>\n",
              "\n",
              "    <script>\n",
              "      const buttonEl =\n",
              "        document.querySelector('#df-dc2af4b9-bb03-45d1-8aec-0e1cee6afba8 button.colab-df-convert');\n",
              "      buttonEl.style.display =\n",
              "        google.colab.kernel.accessAllowed ? 'block' : 'none';\n",
              "\n",
              "      async function convertToInteractive(key) {\n",
              "        const element = document.querySelector('#df-dc2af4b9-bb03-45d1-8aec-0e1cee6afba8');\n",
              "        const dataTable =\n",
              "          await google.colab.kernel.invokeFunction('convertToInteractive',\n",
              "                                                    [key], {});\n",
              "        if (!dataTable) return;\n",
              "\n",
              "        const docLinkHtml = 'Like what you see? Visit the ' +\n",
              "          '<a target=\"_blank\" href=https://colab.research.google.com/notebooks/data_table.ipynb>data table notebook</a>'\n",
              "          + ' to learn more about interactive tables.';\n",
              "        element.innerHTML = '';\n",
              "        dataTable['output_type'] = 'display_data';\n",
              "        await google.colab.output.renderOutput(dataTable, element);\n",
              "        const docLink = document.createElement('div');\n",
              "        docLink.innerHTML = docLinkHtml;\n",
              "        element.appendChild(docLink);\n",
              "      }\n",
              "    </script>\n",
              "  </div>\n",
              "\n",
              "\n",
              "<div id=\"df-75ce6715-1416-4635-a0a8-bfb54cbe3364\">\n",
              "  <button class=\"colab-df-quickchart\" onclick=\"quickchart('df-75ce6715-1416-4635-a0a8-bfb54cbe3364')\"\n",
              "            title=\"Suggest charts\"\n",
              "            style=\"display:none;\">\n",
              "\n",
              "<svg xmlns=\"http://www.w3.org/2000/svg\" height=\"24px\"viewBox=\"0 0 24 24\"\n",
              "     width=\"24px\">\n",
              "    <g>\n",
              "        <path d=\"M19 3H5c-1.1 0-2 .9-2 2v14c0 1.1.9 2 2 2h14c1.1 0 2-.9 2-2V5c0-1.1-.9-2-2-2zM9 17H7v-7h2v7zm4 0h-2V7h2v10zm4 0h-2v-4h2v4z\"/>\n",
              "    </g>\n",
              "</svg>\n",
              "  </button>\n",
              "\n",
              "<style>\n",
              "  .colab-df-quickchart {\n",
              "      --bg-color: #E8F0FE;\n",
              "      --fill-color: #1967D2;\n",
              "      --hover-bg-color: #E2EBFA;\n",
              "      --hover-fill-color: #174EA6;\n",
              "      --disabled-fill-color: #AAA;\n",
              "      --disabled-bg-color: #DDD;\n",
              "  }\n",
              "\n",
              "  [theme=dark] .colab-df-quickchart {\n",
              "      --bg-color: #3B4455;\n",
              "      --fill-color: #D2E3FC;\n",
              "      --hover-bg-color: #434B5C;\n",
              "      --hover-fill-color: #FFFFFF;\n",
              "      --disabled-bg-color: #3B4455;\n",
              "      --disabled-fill-color: #666;\n",
              "  }\n",
              "\n",
              "  .colab-df-quickchart {\n",
              "    background-color: var(--bg-color);\n",
              "    border: none;\n",
              "    border-radius: 50%;\n",
              "    cursor: pointer;\n",
              "    display: none;\n",
              "    fill: var(--fill-color);\n",
              "    height: 32px;\n",
              "    padding: 0;\n",
              "    width: 32px;\n",
              "  }\n",
              "\n",
              "  .colab-df-quickchart:hover {\n",
              "    background-color: var(--hover-bg-color);\n",
              "    box-shadow: 0 1px 2px rgba(60, 64, 67, 0.3), 0 1px 3px 1px rgba(60, 64, 67, 0.15);\n",
              "    fill: var(--button-hover-fill-color);\n",
              "  }\n",
              "\n",
              "  .colab-df-quickchart-complete:disabled,\n",
              "  .colab-df-quickchart-complete:disabled:hover {\n",
              "    background-color: var(--disabled-bg-color);\n",
              "    fill: var(--disabled-fill-color);\n",
              "    box-shadow: none;\n",
              "  }\n",
              "\n",
              "  .colab-df-spinner {\n",
              "    border: 2px solid var(--fill-color);\n",
              "    border-color: transparent;\n",
              "    border-bottom-color: var(--fill-color);\n",
              "    animation:\n",
              "      spin 1s steps(1) infinite;\n",
              "  }\n",
              "\n",
              "  @keyframes spin {\n",
              "    0% {\n",
              "      border-color: transparent;\n",
              "      border-bottom-color: var(--fill-color);\n",
              "      border-left-color: var(--fill-color);\n",
              "    }\n",
              "    20% {\n",
              "      border-color: transparent;\n",
              "      border-left-color: var(--fill-color);\n",
              "      border-top-color: var(--fill-color);\n",
              "    }\n",
              "    30% {\n",
              "      border-color: transparent;\n",
              "      border-left-color: var(--fill-color);\n",
              "      border-top-color: var(--fill-color);\n",
              "      border-right-color: var(--fill-color);\n",
              "    }\n",
              "    40% {\n",
              "      border-color: transparent;\n",
              "      border-right-color: var(--fill-color);\n",
              "      border-top-color: var(--fill-color);\n",
              "    }\n",
              "    60% {\n",
              "      border-color: transparent;\n",
              "      border-right-color: var(--fill-color);\n",
              "    }\n",
              "    80% {\n",
              "      border-color: transparent;\n",
              "      border-right-color: var(--fill-color);\n",
              "      border-bottom-color: var(--fill-color);\n",
              "    }\n",
              "    90% {\n",
              "      border-color: transparent;\n",
              "      border-bottom-color: var(--fill-color);\n",
              "    }\n",
              "  }\n",
              "</style>\n",
              "\n",
              "  <script>\n",
              "    async function quickchart(key) {\n",
              "      const quickchartButtonEl =\n",
              "        document.querySelector('#' + key + ' button');\n",
              "      quickchartButtonEl.disabled = true;  // To prevent multiple clicks.\n",
              "      quickchartButtonEl.classList.add('colab-df-spinner');\n",
              "      try {\n",
              "        const charts = await google.colab.kernel.invokeFunction(\n",
              "            'suggestCharts', [key], {});\n",
              "      } catch (error) {\n",
              "        console.error('Error during call to suggestCharts:', error);\n",
              "      }\n",
              "      quickchartButtonEl.classList.remove('colab-df-spinner');\n",
              "      quickchartButtonEl.classList.add('colab-df-quickchart-complete');\n",
              "    }\n",
              "    (() => {\n",
              "      let quickchartButtonEl =\n",
              "        document.querySelector('#df-75ce6715-1416-4635-a0a8-bfb54cbe3364 button');\n",
              "      quickchartButtonEl.style.display =\n",
              "        google.colab.kernel.accessAllowed ? 'block' : 'none';\n",
              "    })();\n",
              "  </script>\n",
              "</div>\n",
              "\n",
              "  <div id=\"id_1d2b5e50-6c7f-4ace-8cee-450c9dcfbc0f\">\n",
              "    <style>\n",
              "      .colab-df-generate {\n",
              "        background-color: #E8F0FE;\n",
              "        border: none;\n",
              "        border-radius: 50%;\n",
              "        cursor: pointer;\n",
              "        display: none;\n",
              "        fill: #1967D2;\n",
              "        height: 32px;\n",
              "        padding: 0 0 0 0;\n",
              "        width: 32px;\n",
              "      }\n",
              "\n",
              "      .colab-df-generate:hover {\n",
              "        background-color: #E2EBFA;\n",
              "        box-shadow: 0px 1px 2px rgba(60, 64, 67, 0.3), 0px 1px 3px 1px rgba(60, 64, 67, 0.15);\n",
              "        fill: #174EA6;\n",
              "      }\n",
              "\n",
              "      [theme=dark] .colab-df-generate {\n",
              "        background-color: #3B4455;\n",
              "        fill: #D2E3FC;\n",
              "      }\n",
              "\n",
              "      [theme=dark] .colab-df-generate:hover {\n",
              "        background-color: #434B5C;\n",
              "        box-shadow: 0px 1px 3px 1px rgba(0, 0, 0, 0.15);\n",
              "        filter: drop-shadow(0px 1px 2px rgba(0, 0, 0, 0.3));\n",
              "        fill: #FFFFFF;\n",
              "      }\n",
              "    </style>\n",
              "    <button class=\"colab-df-generate\" onclick=\"generateWithVariable('df')\"\n",
              "            title=\"Generate code using this dataframe.\"\n",
              "            style=\"display:none;\">\n",
              "\n",
              "  <svg xmlns=\"http://www.w3.org/2000/svg\" height=\"24px\"viewBox=\"0 0 24 24\"\n",
              "       width=\"24px\">\n",
              "    <path d=\"M7,19H8.4L18.45,9,17,7.55,7,17.6ZM5,21V16.75L18.45,3.32a2,2,0,0,1,2.83,0l1.4,1.43a1.91,1.91,0,0,1,.58,1.4,1.91,1.91,0,0,1-.58,1.4L9.25,21ZM18.45,9,17,7.55Zm-12,3A5.31,5.31,0,0,0,4.9,8.1,5.31,5.31,0,0,0,1,6.5,5.31,5.31,0,0,0,4.9,4.9,5.31,5.31,0,0,0,6.5,1,5.31,5.31,0,0,0,8.1,4.9,5.31,5.31,0,0,0,12,6.5,5.46,5.46,0,0,0,6.5,12Z\"/>\n",
              "  </svg>\n",
              "    </button>\n",
              "    <script>\n",
              "      (() => {\n",
              "      const buttonEl =\n",
              "        document.querySelector('#id_1d2b5e50-6c7f-4ace-8cee-450c9dcfbc0f button.colab-df-generate');\n",
              "      buttonEl.style.display =\n",
              "        google.colab.kernel.accessAllowed ? 'block' : 'none';\n",
              "\n",
              "      buttonEl.onclick = () => {\n",
              "        google.colab.notebook.generateWithVariable('df');\n",
              "      }\n",
              "      })();\n",
              "    </script>\n",
              "  </div>\n",
              "\n",
              "    </div>\n",
              "  </div>\n"
            ],
            "application/vnd.google.colaboratory.intrinsic+json": {
              "type": "dataframe",
              "variable_name": "df",
              "summary": "{\n  \"name\": \"df\",\n  \"rows\": 10,\n  \"fields\": [\n    {\n      \"column\": \"human_baseline_summaries\",\n      \"properties\": {\n        \"dtype\": \"string\",\n        \"num_unique_values\": 10,\n        \"samples\": [\n          \"Promoting Financial Literacy and Economic Opportunity Act of 2015 This bill amends the Internal Revenue Code to allow up to 20 for-profit organizations in any taxable year a business-related tax credit for 50% of the amount paid or incurred to carry out activities to improve the quality of student understanding of personal finance and economics. The Department of the Treasury shall determine which for-profit organizations are eligible for the credit, ensuring that a majority of credit recipients are: (1) either a socially and economically disadvantaged small business concern, a small business concern owned and controlled by women, or a small business concern that is at least 51% owned by veterans, or (2) do not have more than $60 billion in assets. In determining the eligibility of a for-profit organization, Treasury shall give priority to organizations that have programs serving either urban or rural underserved areas. \",\n          \"Federal Forage Fee Act of 1993 - Subjects grazing operations on Federal land to applicable Federal, State, and local environmental and land use requirements. \\nSets forth a forage fee formula for lands under the jurisdiction of the Department of Agriculture and the Department of the Interior.\",\n          \"Prescription Drug Monitoring Act of 2016 This bill requires a state that receives grant funds under the prescription drug monitoring program (PDMP) or the controlled substance monitoring program to comply with specified requirements. The Department of Justice (DOJ) or Department of Health and Human Services may withhold grant funds from a state that fails to comply.  Additionally, the bill requires a state to share its PDMP data with other states through a data-sharing hub established by DOJ. \"\n        ],\n        \"semantic_type\": \"\",\n        \"description\": \"\"\n      }\n    },\n    {\n      \"column\": \"original_model_summaries\",\n      \"properties\": {\n        \"dtype\": \"string\",\n        \"num_unique_values\": 10,\n        \"samples\": [\n          \"This Act may be cited as the 'Promoting Financial Literacy and Economic Opportunity Act of 2015'.\",\n          \"SECTION 1. SECTION 1. FEE. SECTION 2. SECTION 1. APPLICATIONS. APPL. APPENDMENTS. APPLEMENTATIONS. APPENDEMENTS. APPENDEMENTS. APPENDEMENTS. APPENDICES. COMMUNITIES. APPENDINGS. APPENDEMENTS. APPENDMENTS. APPENDMENTS. APPENDMENTS. COMMUNITIES. APPENDEMENTS. COMMUNITIES. APPENDEMENTS. COMMISSIONERS. COMMISSIONERS. COMMISSIONERS. COMMISSIONERS. COMMISSIONERS. COMMISSIONERS. COMMISSIONERS. COMMISSIONERS. COMMISSIONERS. COMMISSIONERS. \",\n          \"This Act shall provide for the establishment of a data-sharing single hub for the exchange of data between States and States of the District of Columbia, and for other purposes.\"\n        ],\n        \"semantic_type\": \"\",\n        \"description\": \"\"\n      }\n    },\n    {\n      \"column\": \"fine_tuned_model_summaries\",\n      \"properties\": {\n        \"dtype\": \"string\",\n        \"num_unique_values\": 10,\n        \"samples\": [\n          \"A bill to amend chapter 45 of the Internal Revenue Code of 1986 to provide for the provision of credit for educational programs for students that promote economic and financial literacy.\",\n          \"A bill to amend title 10, United States Code, to provide for the Federal forage fee to be calculated annually.\",\n          \"A bill to provide for the establishment of a data-sharing single technology solution to facilitate the sharing of data among States and the accessing of such data by practitioners.\"\n        ],\n        \"semantic_type\": \"\",\n        \"description\": \"\"\n      }\n    }\n  ]\n}"
            }
          },
          "metadata": {},
          "execution_count": 20
        }
      ],
      "source": [
        "bill_texts = dataset['test'][0:10]['text']\n",
        "human_baseline_summaries = dataset['test'][0:10]['summary']\n",
        "\n",
        "original_model_summaries = []\n",
        "fine_tuned_model_summaries = []\n",
        "\n",
        "for _, bill_text in enumerate(bill_texts):\n",
        "    prompt = f\"\"\"\n",
        "Summarize the following bill text.\n",
        "\n",
        "{bill_text}\n",
        "\n",
        "Summary: \"\"\"\n",
        "    input_ids = tokenizer(prompt, return_tensors=\"pt\").input_ids\n",
        "    input_ids = input_ids.to(original_model.device)\n",
        "\n",
        "    original_model_outputs = original_model.generate(input_ids=input_ids, generation_config=GenerationConfig(max_new_tokens=200))\n",
        "    original_model_text_output = tokenizer.decode(original_model_outputs[0], skip_special_tokens=True)\n",
        "    original_model_summaries.append(original_model_text_output)\n",
        "\n",
        "    input_ids = tokenizer(prompt, return_tensors=\"pt\").input_ids\n",
        "    input_ids = input_ids.to(fine_tuned_model.device)\n",
        "    fine_tuned_model_outputs = fine_tuned_model.generate(input_ids=input_ids, generation_config=GenerationConfig(max_new_tokens=200))\n",
        "    fine_tuned_model_text_output = tokenizer.decode(fine_tuned_model_outputs[0], skip_special_tokens=True)\n",
        "    fine_tuned_model_summaries.append(fine_tuned_model_text_output)\n",
        "\n",
        "zipped_summaries = list(zip(human_baseline_summaries, original_model_summaries, fine_tuned_model_summaries))\n",
        "\n",
        "df = pd.DataFrame(zipped_summaries, columns = ['human_baseline_summaries', 'original_model_summaries', 'fine_tuned_model_summaries'])\n",
        "df"
      ]
    },
    {
      "cell_type": "markdown",
      "metadata": {
        "tags": [],
        "id": "S25iHsPadgWO"
      },
      "source": [
        "Evaluate the models computing ROUGE metrics. Notice the improvement in the results!"
      ]
    },
    {
      "cell_type": "code",
      "execution_count": null,
      "metadata": {
        "tags": [],
        "id": "04aktHF4dgWO",
        "colab": {
          "base_uri": "https://localhost:8080/"
        },
        "outputId": "ec06be1f-5bee-4a34-946b-83f43c127a51"
      },
      "outputs": [
        {
          "output_type": "stream",
          "name": "stdout",
          "text": [
            "ORIGINAL MODEL:\n",
            "{'rouge1': 0.15356489411915925, 'rouge2': 0.06135715778814338, 'rougeL': 0.11357002363528759, 'rougeLsum': 0.11516928774855649}\n",
            "Fine Tuned MODEL:\n",
            "{'rouge1': 0.24380716305340505, 'rouge2': 0.0948423534248077, 'rougeL': 0.18826470804907652, 'rougeLsum': 0.19613854731762947}\n"
          ]
        }
      ],
      "source": [
        "original_model_results = rouge.compute(\n",
        "    predictions=original_model_summaries,\n",
        "    references=human_baseline_summaries[0:len(original_model_summaries)],\n",
        "    use_aggregator=True,\n",
        "    use_stemmer=True,\n",
        ")\n",
        "\n",
        "fine_tuned_model_results = rouge.compute(\n",
        "    predictions=fine_tuned_model_summaries,\n",
        "    references=human_baseline_summaries[0:len(fine_tuned_model_summaries)],\n",
        "    use_aggregator=True,\n",
        "    use_stemmer=True,\n",
        ")\n",
        "\n",
        "print('ORIGINAL MODEL:')\n",
        "print(original_model_results)\n",
        "print('Fine Tuned MODEL:')\n",
        "print(fine_tuned_model_results)"
      ]
    },
    {
      "cell_type": "markdown",
      "metadata": {
        "tags": [],
        "id": "qrXzPUBOdgWP"
      },
      "source": [
        "The results show substantial improvement in all ROUGE metrics:"
      ]
    },
    {
      "cell_type": "code",
      "execution_count": null,
      "metadata": {
        "tags": [],
        "id": "YfbBU7NmdgWP",
        "colab": {
          "base_uri": "https://localhost:8080/"
        },
        "outputId": "1962eb13-8880-4b0d-f632-530334ed77e9"
      },
      "outputs": [
        {
          "output_type": "stream",
          "name": "stdout",
          "text": [
            "Absolute percentage improvement of FINE TUNED MODEL over ORIGINAL MODEL\n",
            "rouge1: 9.02%\n",
            "rouge2: 3.35%\n",
            "rougeL: 7.47%\n",
            "rougeLsum: 8.10%\n"
          ]
        }
      ],
      "source": [
        "print(\"Absolute percentage improvement of FINE TUNED MODEL over ORIGINAL MODEL\")\n",
        "\n",
        "# Calculate the percentage improvement for each metric\n",
        "improvements = {\n",
        "    key: (fine_tuned_model_results[key] - original_model_results[key]) * 100\n",
        "    for key in fine_tuned_model_results.keys()\n",
        "}\n",
        "\n",
        "# Print the improvements for each metric\n",
        "for metric, improvement in improvements.items():\n",
        "    print(f\"{metric}: {improvement:.2f}%\")\n"
      ]
    },
    {
      "cell_type": "markdown",
      "metadata": {
        "id": "uzmG5bkddgWP"
      },
      "source": [
        "### 3 - Implement Parameter-Efficient Fine-Tuning (PEFT)\n",
        "\n",
        "Next, we'll explore **Parameter-Efficient Fine-Tuning (PEFT)**, an alternative to the \"full fine-tuning\" approach used earlier. PEFT offers a more resource-efficient way to adapt models while achieving evaluation results that are comparable to full fine-tuning, as you’ll observe shortly.\n",
        "\n",
        "PEFT is an umbrella term encompassing methods like **Low-Rank Adaptation (LoRA)** and prompt tuning (distinct from prompt engineering). In most cases, when referring to PEFT, the focus is typically on LoRA. LoRA enables fine-tuning of models with significantly reduced computational demands—often requiring as little as a single GPU. Instead of modifying the original large language model (LLM), LoRA fine-tuning creates a compact \"LoRA adapter,\" which is tailored to a specific task or application. This adapter is much smaller than the original LLM, typically occupying only a fraction of its size (e.g., megabytes compared to gigabytes).\n",
        "\n",
        "During inference, the LoRA adapter is merged back with the original LLM to process requests. The key advantage here is that a single LLM can support multiple tasks by leveraging different LoRA adapters, minimizing the overall memory footprint when serving diverse use cases. This modularity makes LoRA an efficient and scalable solution for fine-tuning large models."
      ]
    },
    {
      "cell_type": "markdown",
      "metadata": {
        "id": "KwWMmp3NdgWP"
      },
      "source": [
        "### 3.1 - Configure the PEFT/LoRA Model for Fine-Tuning\n",
        "\n",
        "To begin fine-tuning using PEFT/LoRA, we’ll configure the model to include a new layer or parameter adapter. With this approach, the underlying LLM remains frozen, and only the adapter is trained. Below is an example of the LoRA configuration, which includes the rank (`r`) hyperparameter. This parameter specifies the dimensionality or rank of the adapter being trained. Adjusting `r` allows you to control the complexity and size of the adapter."
      ]
    },
    {
      "cell_type": "code",
      "execution_count": null,
      "metadata": {
        "tags": [],
        "id": "STKaeMiydgWQ"
      },
      "outputs": [],
      "source": [
        "from peft import LoraConfig, get_peft_model, TaskType\n",
        "\n",
        "lora_config = LoraConfig(\n",
        "    r=32, # Rank\n",
        "    lora_alpha=32,\n",
        "    target_modules=[\"q\", \"v\"],\n",
        "    lora_dropout=0.05,\n",
        "    bias=\"none\",\n",
        "    task_type=TaskType.SEQ_2_SEQ_LM # FLAN-T5\n",
        ")"
      ]
    },
    {
      "cell_type": "markdown",
      "metadata": {
        "tags": [],
        "id": "d9-1ZQWodgWQ"
      },
      "source": [
        "Add LoRA adapter layers/parameters to the original LLM to be trained."
      ]
    },
    {
      "cell_type": "code",
      "execution_count": null,
      "metadata": {
        "tags": [],
        "id": "qId9m8mYdgWQ",
        "colab": {
          "base_uri": "https://localhost:8080/"
        },
        "outputId": "5f9af63e-0ee8-4d47-fd7d-9b9352e60678"
      },
      "outputs": [
        {
          "output_type": "stream",
          "name": "stdout",
          "text": [
            "Trainable Parameters: 3538944\n",
            "Total Parameters: 251116800\n",
            "Percentage of Trainable Parameters: 1.41%\n"
          ]
        }
      ],
      "source": [
        "peft_model = get_peft_model(original_model,\n",
        "                            lora_config)\n",
        "print(summarize_model_parameters(peft_model))"
      ]
    },
    {
      "cell_type": "markdown",
      "metadata": {
        "tags": [],
        "id": "1RyvH-L2dgWQ"
      },
      "source": [
        "<a name='3.2'></a>\n",
        "### 3.2 - Train PEFT Adapter\n",
        "\n",
        "Define training arguments and create `Trainer` instance."
      ]
    },
    {
      "cell_type": "code",
      "execution_count": null,
      "metadata": {
        "tags": [],
        "id": "xZTZLyHudgWQ"
      },
      "outputs": [],
      "source": [
        "output_dir = f'{path}peft-bill_text-summary-training-{str(int(time.time()))}'\n",
        "\n",
        "peft_training_args = TrainingArguments(\n",
        "    output_dir=output_dir,\n",
        "    auto_find_batch_size=True,\n",
        "    report_to=\"none\",\n",
        "    learning_rate=1e-3, # Higher learning rate than full fine-tuning.\n",
        "    num_train_epochs=1,\n",
        "    logging_steps=1,\n",
        "    max_steps=1\n",
        ")\n",
        "\n",
        "peft_trainer = Trainer(\n",
        "    model=peft_model,\n",
        "    args=peft_training_args,\n",
        "    train_dataset=tokenized_datasets[\"train\"],\n",
        ")"
      ]
    },
    {
      "cell_type": "markdown",
      "metadata": {
        "id": "SYHxNNZidgWR"
      },
      "source": [
        "Now everything is ready to train the PEFT adapter and save the model."
      ]
    },
    {
      "cell_type": "code",
      "execution_count": null,
      "metadata": {
        "tags": [],
        "id": "LrJRq-nfdgWR",
        "colab": {
          "base_uri": "https://localhost:8080/",
          "height": 197
        },
        "outputId": "5fa03b69-e538-453f-fbcd-fd7c1a4e2f23"
      },
      "outputs": [
        {
          "output_type": "display_data",
          "data": {
            "text/plain": [
              "<IPython.core.display.HTML object>"
            ],
            "text/html": [
              "\n",
              "    <div>\n",
              "      \n",
              "      <progress value='1' max='1' style='width:300px; height:20px; vertical-align: middle;'></progress>\n",
              "      [1/1 00:00, Epoch 0/1]\n",
              "    </div>\n",
              "    <table border=\"1\" class=\"dataframe\">\n",
              "  <thead>\n",
              " <tr style=\"text-align: left;\">\n",
              "      <th>Step</th>\n",
              "      <th>Training Loss</th>\n",
              "    </tr>\n",
              "  </thead>\n",
              "  <tbody>\n",
              "    <tr>\n",
              "      <td>1</td>\n",
              "      <td>28.375000</td>\n",
              "    </tr>\n",
              "  </tbody>\n",
              "</table><p>"
            ]
          },
          "metadata": {}
        },
        {
          "output_type": "execute_result",
          "data": {
            "text/plain": [
              "('/content/drive/My Drive/data/peft-bill_text-dialogue-summary-checkpoint-local/tokenizer_config.json',\n",
              " '/content/drive/My Drive/data/peft-bill_text-dialogue-summary-checkpoint-local/special_tokens_map.json',\n",
              " '/content/drive/My Drive/data/peft-bill_text-dialogue-summary-checkpoint-local/spiece.model',\n",
              " '/content/drive/My Drive/data/peft-bill_text-dialogue-summary-checkpoint-local/added_tokens.json',\n",
              " '/content/drive/My Drive/data/peft-bill_text-dialogue-summary-checkpoint-local/tokenizer.json')"
            ]
          },
          "metadata": {},
          "execution_count": 28
        }
      ],
      "source": [
        "peft_trainer.train()\n",
        "\n",
        "peft_model_path=f\"{path}peft-bill_text-dialogue-summary-checkpoint-local\"\n",
        "\n",
        "peft_trainer.model.save_pretrained(peft_model_path)\n",
        "tokenizer.save_pretrained(peft_model_path)"
      ]
    },
    {
      "cell_type": "markdown",
      "metadata": {
        "tags": [],
        "id": "AbvSPPi5dgWS"
      },
      "source": [
        "Prepare this model by adding an adapter to the original FLAN-T5 model. You are setting `is_trainable=False` because the plan is only to perform inference with this PEFT model. If you were preparing the model for further training, you would set `is_trainable=True`."
      ]
    },
    {
      "cell_type": "code",
      "execution_count": null,
      "metadata": {
        "tags": [],
        "id": "aWshA8q7dgWS"
      },
      "outputs": [],
      "source": [
        "from peft import PeftModel, PeftConfig\n",
        "\n",
        "peft_model_base = AutoModelForSeq2SeqLM.from_pretrained(\"google/flan-t5-base\", torch_dtype=torch.bfloat16)\n",
        "tokenizer = AutoTokenizer.from_pretrained(\"google/flan-t5-base\")\n",
        "\n",
        "peft_model = PeftModel.from_pretrained(peft_model_base,\n",
        "                                       '/content/drive/My Drive/data/peft-bill_text-dialogue-summary-checkpoint-local',\n",
        "                                       torch_dtype=torch.bfloat16,\n",
        "                                       is_trainable=False)"
      ]
    },
    {
      "cell_type": "markdown",
      "metadata": {
        "tags": [],
        "id": "5gqu_bo5dgWS"
      },
      "source": [
        "The number of trainable parameters will be `0` due to `is_trainable=False` setting:"
      ]
    },
    {
      "cell_type": "code",
      "execution_count": null,
      "metadata": {
        "tags": [],
        "id": "INB4MKeCdgWS",
        "colab": {
          "base_uri": "https://localhost:8080/"
        },
        "outputId": "05e22be4-0eb5-4278-b927-c4bde915a3d2"
      },
      "outputs": [
        {
          "output_type": "stream",
          "name": "stdout",
          "text": [
            "Trainable Parameters: 0\n",
            "Total Parameters: 251116800\n",
            "Percentage of Trainable Parameters: 0.00%\n"
          ]
        }
      ],
      "source": [
        "print(summarize_model_parameters(peft_model))"
      ]
    },
    {
      "cell_type": "markdown",
      "metadata": {
        "id": "N-zAJdxFdgWS"
      },
      "source": [
        "<a name='3.3'></a>\n",
        "### 3.3 - Evaluate the Model Qualitatively (Human Evaluation)\n",
        "\n",
        "Make inferences for the same example as in sections [1.3](#1.3) and [2.3](#2.3), with the original model, fully fine-tuned and PEFT model."
      ]
    },
    {
      "cell_type": "code",
      "execution_count": null,
      "metadata": {
        "tags": [],
        "id": "Tm1OcE27dgWS",
        "colab": {
          "base_uri": "https://localhost:8080/"
        },
        "outputId": "5d3d6d81-9471-4eb4-ff10-f3d93535197a"
      },
      "outputs": [
        {
          "output_type": "stream",
          "name": "stderr",
          "text": [
            "Token indices sequence length is longer than the specified maximum sequence length for this model (1745 > 512). Running this sequence through the model will result in indexing errors\n"
          ]
        },
        {
          "output_type": "stream",
          "name": "stdout",
          "text": [
            "---------------------------------------------------------------------------------------------------\n",
            "BASELINE HUMAN SUMMARY:\n",
            "Afghanistan and Central Asian Republics Sustainable Food Production Act of 2001 - Directs the Administrator of the United States Agency for International Development to provide financial assistance to nongovernmental organizations carrying out rural developmental activities in Afghanistan, Kyrgyzstan, Pakistan, Tajikistan, Turkmenistan, and Uzbekistan. Stipulates the aid shall be used for: (1) restocking seed; (2) replacing breeding livestock; (3) restoring basic irrigation systems; (4) providing access to credit for food production, processing or marketing enterprises through rural microenterprise loan programs; and (5) technical assistance. Places human rights and other conditions on the government of Afghanistan for projects to be funded in Afghanistan.\n",
            "---------------------------------------------------------------------------------------------------\n",
            "ORIGINAL MODEL:\n",
            "Afghanistan and Central Asian Republics Sustainable Food Production Act of 2001\n",
            "---------------------------------------------------------------------------------------------------\n",
            "FINE TUNED MODEL:\n",
            "A bill to amend title 10, United States Code, to provide for the development of sustainable food production in Afghanistan and the mountainous regions of Central Asia, and for other purposes.\n",
            "---------------------------------------------------------------------------------------------------\n",
            "PEFT MODEL: A bill to amend title 10, United States Code, to provide for the development of sustainable food production in Afghanistan and the mountainous regions of Central Asia, and for other purposes.\n"
          ]
        }
      ],
      "source": [
        "index = 100\n",
        "bill_text = dataset['test'][index]['text']\n",
        "human_baseline_summary = dataset['test'][index]['summary']\n",
        "\n",
        "prompt = f\"\"\"\n",
        "Summarize the following bill text:\n",
        "\n",
        "{bill_text}\n",
        "\n",
        "Summary:\n",
        "\"\"\"\n",
        "\n",
        "input_ids = tokenizer(prompt, return_tensors=\"pt\").input_ids\n",
        "input_ids = input_ids.to(original_model.device) # Move input_ids to the same device as the model\n",
        "original_model_outputs = original_model.generate(input_ids=input_ids, generation_config=GenerationConfig(max_new_tokens=200, num_beams=1))\n",
        "original_model_text_output = tokenizer.decode(original_model_outputs[0], skip_special_tokens=True)\n",
        "\n",
        "input_ids = tokenizer(prompt, return_tensors=\"pt\").input_ids\n",
        "input_ids = input_ids.to(fine_tuned_model.device)\n",
        "fine_tuned_model_outputs = fine_tuned_model.generate(input_ids=input_ids, generation_config=GenerationConfig(max_new_tokens=200, num_beams=1))\n",
        "fine_tuned_model_text_output = tokenizer.decode(fine_tuned_model_outputs[0], skip_special_tokens=True)\n",
        "\n",
        "input_ids = tokenizer(prompt, return_tensors=\"pt\").input_ids\n",
        "input_ids = input_ids.to(peft_model.device)\n",
        "peft_model_outputs = peft_model.generate(input_ids=input_ids, generation_config=GenerationConfig(max_new_tokens=200, num_beams=1))\n",
        "peft_model_text_output = tokenizer.decode(peft_model_outputs[0], skip_special_tokens=True)\n",
        "\n",
        "print(dash_line)\n",
        "print(f'BASELINE HUMAN SUMMARY:\\n{human_baseline_summary}')\n",
        "print(dash_line)\n",
        "print(f'ORIGINAL MODEL:\\n{original_model_text_output}')\n",
        "print(dash_line)\n",
        "print(f'FINE TUNED MODEL:\\n{fine_tuned_model_text_output}')\n",
        "print(dash_line)\n",
        "print(f'PEFT MODEL: {peft_model_text_output}')"
      ]
    },
    {
      "cell_type": "markdown",
      "metadata": {
        "id": "8CTUeuh2dgWS"
      },
      "source": [
        "<a name='3.4'></a>\n",
        "### 3.4 - Evaluate the Model Quantitatively (with ROUGE Metric)\n",
        "Perform inferences for the sample of the test dataset (only 10 bill text and summaries to save time)."
      ]
    },
    {
      "cell_type": "code",
      "execution_count": null,
      "metadata": {
        "tags": [],
        "id": "8oAH6EpjdgWT",
        "colab": {
          "base_uri": "https://localhost:8080/",
          "height": 536
        },
        "outputId": "b5b725ff-0edf-472b-8eaa-5320bf47ba9f"
      },
      "outputs": [
        {
          "output_type": "execute_result",
          "data": {
            "text/plain": [
              "                            human_baseline_summaries  \\\n",
              "0  Amends the Water Resources Development Act of ...   \n",
              "1  Federal Forage Fee Act of 1993 - Subjects graz...   \n",
              "2  .  Merchant Marine of World War II Congression...   \n",
              "3  Small Business Modernization Act of 2004 - Ame...   \n",
              "4  Fair Access to Investment Research Act of 2016...   \n",
              "5  Prescription Drug Monitoring Act of 2016 This ...   \n",
              "6  Strategic Gasoline and Fuel Reserve Act of 200...   \n",
              "7  Special Agent Scott K. Carey Public Safety Off...   \n",
              "8  Promoting Financial Literacy and Economic Oppo...   \n",
              "9  Amends the Tariff Act of 1930 to define \"deliv...   \n",
              "\n",
              "                            original_model_summaries  \\\n",
              "0                                               SEC.   \n",
              "1  A bill to provide for the fee for the Federal ...   \n",
              "2  A bill to provide for the award of a single go...   \n",
              "3        SECTION 2. UNIFIED PASS-THRU ENTITY REGIME.   \n",
              "4  This Act may be cited as the 'Fair Access to I...   \n",
              "5  This Act provides for the establishment of a d...   \n",
              "6  The Energy Policy and Conservation Act of 2005...   \n",
              "7  This Act may be cited as the Special Agent Sco...   \n",
              "8  A bill to amend the Internal Revenue Code of 1...   \n",
              "9                                         SECTION 1.   \n",
              "\n",
              "                                fine_tuned_summaries  \\\n",
              "0  A bill to amend title I of the Water Resources...   \n",
              "1  A bill to amend title 10, United States Code, ...   \n",
              "2  A bill to provide for the award of a gold meda...   \n",
              "3  A bill to amend title 38, United States Code, ...   \n",
              "4  A bill to amend title 17, United States Code, ...   \n",
              "5  A bill to provide for the establishment of a d...   \n",
              "6  A bill to amend title I of the Energy Policy a...   \n",
              "7  A bill to amend title 1213 of the Omnibus Crim...   \n",
              "8  A bill to amend chapter 45 of the Internal Rev...   \n",
              "9  A bill to amend section 801 of the Tariff Act ...   \n",
              "\n",
              "                                peft_model_summaries  \n",
              "0  A bill to amend title I of Public Law 106-69 t...  \n",
              "1  A bill to amend title 10, United States Code, ...  \n",
              "2  A bill to provide for the award of a gold meda...  \n",
              "3  A bill to amend title 38, United States Code, ...  \n",
              "4  A bill to amend title 17, United States Code, ...  \n",
              "5  A bill to provide for the establishment of a d...  \n",
              "6  A bill to amend title I of the Energy Policy a...  \n",
              "7  A bill to amend title 1213 of the Omnibus Crim...  \n",
              "8  This Act provides for the establishment of a c...  \n",
              "9  A bill to amend section 801 of the Tariff Act ...  "
            ],
            "text/html": [
              "\n",
              "  <div id=\"df-8618ffb0-d0b3-4a39-8a54-eb62da4c91ae\" class=\"colab-df-container\">\n",
              "    <div>\n",
              "<style scoped>\n",
              "    .dataframe tbody tr th:only-of-type {\n",
              "        vertical-align: middle;\n",
              "    }\n",
              "\n",
              "    .dataframe tbody tr th {\n",
              "        vertical-align: top;\n",
              "    }\n",
              "\n",
              "    .dataframe thead th {\n",
              "        text-align: right;\n",
              "    }\n",
              "</style>\n",
              "<table border=\"1\" class=\"dataframe\">\n",
              "  <thead>\n",
              "    <tr style=\"text-align: right;\">\n",
              "      <th></th>\n",
              "      <th>human_baseline_summaries</th>\n",
              "      <th>original_model_summaries</th>\n",
              "      <th>fine_tuned_summaries</th>\n",
              "      <th>peft_model_summaries</th>\n",
              "    </tr>\n",
              "  </thead>\n",
              "  <tbody>\n",
              "    <tr>\n",
              "      <th>0</th>\n",
              "      <td>Amends the Water Resources Development Act of ...</td>\n",
              "      <td>SEC.</td>\n",
              "      <td>A bill to amend title I of the Water Resources...</td>\n",
              "      <td>A bill to amend title I of Public Law 106-69 t...</td>\n",
              "    </tr>\n",
              "    <tr>\n",
              "      <th>1</th>\n",
              "      <td>Federal Forage Fee Act of 1993 - Subjects graz...</td>\n",
              "      <td>A bill to provide for the fee for the Federal ...</td>\n",
              "      <td>A bill to amend title 10, United States Code, ...</td>\n",
              "      <td>A bill to amend title 10, United States Code, ...</td>\n",
              "    </tr>\n",
              "    <tr>\n",
              "      <th>2</th>\n",
              "      <td>.  Merchant Marine of World War II Congression...</td>\n",
              "      <td>A bill to provide for the award of a single go...</td>\n",
              "      <td>A bill to provide for the award of a gold meda...</td>\n",
              "      <td>A bill to provide for the award of a gold meda...</td>\n",
              "    </tr>\n",
              "    <tr>\n",
              "      <th>3</th>\n",
              "      <td>Small Business Modernization Act of 2004 - Ame...</td>\n",
              "      <td>SECTION 2. UNIFIED PASS-THRU ENTITY REGIME.</td>\n",
              "      <td>A bill to amend title 38, United States Code, ...</td>\n",
              "      <td>A bill to amend title 38, United States Code, ...</td>\n",
              "    </tr>\n",
              "    <tr>\n",
              "      <th>4</th>\n",
              "      <td>Fair Access to Investment Research Act of 2016...</td>\n",
              "      <td>This Act may be cited as the 'Fair Access to I...</td>\n",
              "      <td>A bill to amend title 17, United States Code, ...</td>\n",
              "      <td>A bill to amend title 17, United States Code, ...</td>\n",
              "    </tr>\n",
              "    <tr>\n",
              "      <th>5</th>\n",
              "      <td>Prescription Drug Monitoring Act of 2016 This ...</td>\n",
              "      <td>This Act provides for the establishment of a d...</td>\n",
              "      <td>A bill to provide for the establishment of a d...</td>\n",
              "      <td>A bill to provide for the establishment of a d...</td>\n",
              "    </tr>\n",
              "    <tr>\n",
              "      <th>6</th>\n",
              "      <td>Strategic Gasoline and Fuel Reserve Act of 200...</td>\n",
              "      <td>The Energy Policy and Conservation Act of 2005...</td>\n",
              "      <td>A bill to amend title I of the Energy Policy a...</td>\n",
              "      <td>A bill to amend title I of the Energy Policy a...</td>\n",
              "    </tr>\n",
              "    <tr>\n",
              "      <th>7</th>\n",
              "      <td>Special Agent Scott K. Carey Public Safety Off...</td>\n",
              "      <td>This Act may be cited as the Special Agent Sco...</td>\n",
              "      <td>A bill to amend title 1213 of the Omnibus Crim...</td>\n",
              "      <td>A bill to amend title 1213 of the Omnibus Crim...</td>\n",
              "    </tr>\n",
              "    <tr>\n",
              "      <th>8</th>\n",
              "      <td>Promoting Financial Literacy and Economic Oppo...</td>\n",
              "      <td>A bill to amend the Internal Revenue Code of 1...</td>\n",
              "      <td>A bill to amend chapter 45 of the Internal Rev...</td>\n",
              "      <td>This Act provides for the establishment of a c...</td>\n",
              "    </tr>\n",
              "    <tr>\n",
              "      <th>9</th>\n",
              "      <td>Amends the Tariff Act of 1930 to define \"deliv...</td>\n",
              "      <td>SECTION 1.</td>\n",
              "      <td>A bill to amend section 801 of the Tariff Act ...</td>\n",
              "      <td>A bill to amend section 801 of the Tariff Act ...</td>\n",
              "    </tr>\n",
              "  </tbody>\n",
              "</table>\n",
              "</div>\n",
              "    <div class=\"colab-df-buttons\">\n",
              "\n",
              "  <div class=\"colab-df-container\">\n",
              "    <button class=\"colab-df-convert\" onclick=\"convertToInteractive('df-8618ffb0-d0b3-4a39-8a54-eb62da4c91ae')\"\n",
              "            title=\"Convert this dataframe to an interactive table.\"\n",
              "            style=\"display:none;\">\n",
              "\n",
              "  <svg xmlns=\"http://www.w3.org/2000/svg\" height=\"24px\" viewBox=\"0 -960 960 960\">\n",
              "    <path d=\"M120-120v-720h720v720H120Zm60-500h600v-160H180v160Zm220 220h160v-160H400v160Zm0 220h160v-160H400v160ZM180-400h160v-160H180v160Zm440 0h160v-160H620v160ZM180-180h160v-160H180v160Zm440 0h160v-160H620v160Z\"/>\n",
              "  </svg>\n",
              "    </button>\n",
              "\n",
              "  <style>\n",
              "    .colab-df-container {\n",
              "      display:flex;\n",
              "      gap: 12px;\n",
              "    }\n",
              "\n",
              "    .colab-df-convert {\n",
              "      background-color: #E8F0FE;\n",
              "      border: none;\n",
              "      border-radius: 50%;\n",
              "      cursor: pointer;\n",
              "      display: none;\n",
              "      fill: #1967D2;\n",
              "      height: 32px;\n",
              "      padding: 0 0 0 0;\n",
              "      width: 32px;\n",
              "    }\n",
              "\n",
              "    .colab-df-convert:hover {\n",
              "      background-color: #E2EBFA;\n",
              "      box-shadow: 0px 1px 2px rgba(60, 64, 67, 0.3), 0px 1px 3px 1px rgba(60, 64, 67, 0.15);\n",
              "      fill: #174EA6;\n",
              "    }\n",
              "\n",
              "    .colab-df-buttons div {\n",
              "      margin-bottom: 4px;\n",
              "    }\n",
              "\n",
              "    [theme=dark] .colab-df-convert {\n",
              "      background-color: #3B4455;\n",
              "      fill: #D2E3FC;\n",
              "    }\n",
              "\n",
              "    [theme=dark] .colab-df-convert:hover {\n",
              "      background-color: #434B5C;\n",
              "      box-shadow: 0px 1px 3px 1px rgba(0, 0, 0, 0.15);\n",
              "      filter: drop-shadow(0px 1px 2px rgba(0, 0, 0, 0.3));\n",
              "      fill: #FFFFFF;\n",
              "    }\n",
              "  </style>\n",
              "\n",
              "    <script>\n",
              "      const buttonEl =\n",
              "        document.querySelector('#df-8618ffb0-d0b3-4a39-8a54-eb62da4c91ae button.colab-df-convert');\n",
              "      buttonEl.style.display =\n",
              "        google.colab.kernel.accessAllowed ? 'block' : 'none';\n",
              "\n",
              "      async function convertToInteractive(key) {\n",
              "        const element = document.querySelector('#df-8618ffb0-d0b3-4a39-8a54-eb62da4c91ae');\n",
              "        const dataTable =\n",
              "          await google.colab.kernel.invokeFunction('convertToInteractive',\n",
              "                                                    [key], {});\n",
              "        if (!dataTable) return;\n",
              "\n",
              "        const docLinkHtml = 'Like what you see? Visit the ' +\n",
              "          '<a target=\"_blank\" href=https://colab.research.google.com/notebooks/data_table.ipynb>data table notebook</a>'\n",
              "          + ' to learn more about interactive tables.';\n",
              "        element.innerHTML = '';\n",
              "        dataTable['output_type'] = 'display_data';\n",
              "        await google.colab.output.renderOutput(dataTable, element);\n",
              "        const docLink = document.createElement('div');\n",
              "        docLink.innerHTML = docLinkHtml;\n",
              "        element.appendChild(docLink);\n",
              "      }\n",
              "    </script>\n",
              "  </div>\n",
              "\n",
              "\n",
              "<div id=\"df-c8dbf15d-219e-44db-b610-87607ddbf41b\">\n",
              "  <button class=\"colab-df-quickchart\" onclick=\"quickchart('df-c8dbf15d-219e-44db-b610-87607ddbf41b')\"\n",
              "            title=\"Suggest charts\"\n",
              "            style=\"display:none;\">\n",
              "\n",
              "<svg xmlns=\"http://www.w3.org/2000/svg\" height=\"24px\"viewBox=\"0 0 24 24\"\n",
              "     width=\"24px\">\n",
              "    <g>\n",
              "        <path d=\"M19 3H5c-1.1 0-2 .9-2 2v14c0 1.1.9 2 2 2h14c1.1 0 2-.9 2-2V5c0-1.1-.9-2-2-2zM9 17H7v-7h2v7zm4 0h-2V7h2v10zm4 0h-2v-4h2v4z\"/>\n",
              "    </g>\n",
              "</svg>\n",
              "  </button>\n",
              "\n",
              "<style>\n",
              "  .colab-df-quickchart {\n",
              "      --bg-color: #E8F0FE;\n",
              "      --fill-color: #1967D2;\n",
              "      --hover-bg-color: #E2EBFA;\n",
              "      --hover-fill-color: #174EA6;\n",
              "      --disabled-fill-color: #AAA;\n",
              "      --disabled-bg-color: #DDD;\n",
              "  }\n",
              "\n",
              "  [theme=dark] .colab-df-quickchart {\n",
              "      --bg-color: #3B4455;\n",
              "      --fill-color: #D2E3FC;\n",
              "      --hover-bg-color: #434B5C;\n",
              "      --hover-fill-color: #FFFFFF;\n",
              "      --disabled-bg-color: #3B4455;\n",
              "      --disabled-fill-color: #666;\n",
              "  }\n",
              "\n",
              "  .colab-df-quickchart {\n",
              "    background-color: var(--bg-color);\n",
              "    border: none;\n",
              "    border-radius: 50%;\n",
              "    cursor: pointer;\n",
              "    display: none;\n",
              "    fill: var(--fill-color);\n",
              "    height: 32px;\n",
              "    padding: 0;\n",
              "    width: 32px;\n",
              "  }\n",
              "\n",
              "  .colab-df-quickchart:hover {\n",
              "    background-color: var(--hover-bg-color);\n",
              "    box-shadow: 0 1px 2px rgba(60, 64, 67, 0.3), 0 1px 3px 1px rgba(60, 64, 67, 0.15);\n",
              "    fill: var(--button-hover-fill-color);\n",
              "  }\n",
              "\n",
              "  .colab-df-quickchart-complete:disabled,\n",
              "  .colab-df-quickchart-complete:disabled:hover {\n",
              "    background-color: var(--disabled-bg-color);\n",
              "    fill: var(--disabled-fill-color);\n",
              "    box-shadow: none;\n",
              "  }\n",
              "\n",
              "  .colab-df-spinner {\n",
              "    border: 2px solid var(--fill-color);\n",
              "    border-color: transparent;\n",
              "    border-bottom-color: var(--fill-color);\n",
              "    animation:\n",
              "      spin 1s steps(1) infinite;\n",
              "  }\n",
              "\n",
              "  @keyframes spin {\n",
              "    0% {\n",
              "      border-color: transparent;\n",
              "      border-bottom-color: var(--fill-color);\n",
              "      border-left-color: var(--fill-color);\n",
              "    }\n",
              "    20% {\n",
              "      border-color: transparent;\n",
              "      border-left-color: var(--fill-color);\n",
              "      border-top-color: var(--fill-color);\n",
              "    }\n",
              "    30% {\n",
              "      border-color: transparent;\n",
              "      border-left-color: var(--fill-color);\n",
              "      border-top-color: var(--fill-color);\n",
              "      border-right-color: var(--fill-color);\n",
              "    }\n",
              "    40% {\n",
              "      border-color: transparent;\n",
              "      border-right-color: var(--fill-color);\n",
              "      border-top-color: var(--fill-color);\n",
              "    }\n",
              "    60% {\n",
              "      border-color: transparent;\n",
              "      border-right-color: var(--fill-color);\n",
              "    }\n",
              "    80% {\n",
              "      border-color: transparent;\n",
              "      border-right-color: var(--fill-color);\n",
              "      border-bottom-color: var(--fill-color);\n",
              "    }\n",
              "    90% {\n",
              "      border-color: transparent;\n",
              "      border-bottom-color: var(--fill-color);\n",
              "    }\n",
              "  }\n",
              "</style>\n",
              "\n",
              "  <script>\n",
              "    async function quickchart(key) {\n",
              "      const quickchartButtonEl =\n",
              "        document.querySelector('#' + key + ' button');\n",
              "      quickchartButtonEl.disabled = true;  // To prevent multiple clicks.\n",
              "      quickchartButtonEl.classList.add('colab-df-spinner');\n",
              "      try {\n",
              "        const charts = await google.colab.kernel.invokeFunction(\n",
              "            'suggestCharts', [key], {});\n",
              "      } catch (error) {\n",
              "        console.error('Error during call to suggestCharts:', error);\n",
              "      }\n",
              "      quickchartButtonEl.classList.remove('colab-df-spinner');\n",
              "      quickchartButtonEl.classList.add('colab-df-quickchart-complete');\n",
              "    }\n",
              "    (() => {\n",
              "      let quickchartButtonEl =\n",
              "        document.querySelector('#df-c8dbf15d-219e-44db-b610-87607ddbf41b button');\n",
              "      quickchartButtonEl.style.display =\n",
              "        google.colab.kernel.accessAllowed ? 'block' : 'none';\n",
              "    })();\n",
              "  </script>\n",
              "</div>\n",
              "\n",
              "  <div id=\"id_ba325ad1-70a6-42c6-8afe-957bdf833e39\">\n",
              "    <style>\n",
              "      .colab-df-generate {\n",
              "        background-color: #E8F0FE;\n",
              "        border: none;\n",
              "        border-radius: 50%;\n",
              "        cursor: pointer;\n",
              "        display: none;\n",
              "        fill: #1967D2;\n",
              "        height: 32px;\n",
              "        padding: 0 0 0 0;\n",
              "        width: 32px;\n",
              "      }\n",
              "\n",
              "      .colab-df-generate:hover {\n",
              "        background-color: #E2EBFA;\n",
              "        box-shadow: 0px 1px 2px rgba(60, 64, 67, 0.3), 0px 1px 3px 1px rgba(60, 64, 67, 0.15);\n",
              "        fill: #174EA6;\n",
              "      }\n",
              "\n",
              "      [theme=dark] .colab-df-generate {\n",
              "        background-color: #3B4455;\n",
              "        fill: #D2E3FC;\n",
              "      }\n",
              "\n",
              "      [theme=dark] .colab-df-generate:hover {\n",
              "        background-color: #434B5C;\n",
              "        box-shadow: 0px 1px 3px 1px rgba(0, 0, 0, 0.15);\n",
              "        filter: drop-shadow(0px 1px 2px rgba(0, 0, 0, 0.3));\n",
              "        fill: #FFFFFF;\n",
              "      }\n",
              "    </style>\n",
              "    <button class=\"colab-df-generate\" onclick=\"generateWithVariable('df2')\"\n",
              "            title=\"Generate code using this dataframe.\"\n",
              "            style=\"display:none;\">\n",
              "\n",
              "  <svg xmlns=\"http://www.w3.org/2000/svg\" height=\"24px\"viewBox=\"0 0 24 24\"\n",
              "       width=\"24px\">\n",
              "    <path d=\"M7,19H8.4L18.45,9,17,7.55,7,17.6ZM5,21V16.75L18.45,3.32a2,2,0,0,1,2.83,0l1.4,1.43a1.91,1.91,0,0,1,.58,1.4,1.91,1.91,0,0,1-.58,1.4L9.25,21ZM18.45,9,17,7.55Zm-12,3A5.31,5.31,0,0,0,4.9,8.1,5.31,5.31,0,0,0,1,6.5,5.31,5.31,0,0,0,4.9,4.9,5.31,5.31,0,0,0,6.5,1,5.31,5.31,0,0,0,8.1,4.9,5.31,5.31,0,0,0,12,6.5,5.46,5.46,0,0,0,6.5,12Z\"/>\n",
              "  </svg>\n",
              "    </button>\n",
              "    <script>\n",
              "      (() => {\n",
              "      const buttonEl =\n",
              "        document.querySelector('#id_ba325ad1-70a6-42c6-8afe-957bdf833e39 button.colab-df-generate');\n",
              "      buttonEl.style.display =\n",
              "        google.colab.kernel.accessAllowed ? 'block' : 'none';\n",
              "\n",
              "      buttonEl.onclick = () => {\n",
              "        google.colab.notebook.generateWithVariable('df2');\n",
              "      }\n",
              "      })();\n",
              "    </script>\n",
              "  </div>\n",
              "\n",
              "    </div>\n",
              "  </div>\n"
            ],
            "application/vnd.google.colaboratory.intrinsic+json": {
              "type": "dataframe",
              "variable_name": "df2",
              "summary": "{\n  \"name\": \"df2\",\n  \"rows\": 10,\n  \"fields\": [\n    {\n      \"column\": \"human_baseline_summaries\",\n      \"properties\": {\n        \"dtype\": \"string\",\n        \"num_unique_values\": 10,\n        \"samples\": [\n          \"Promoting Financial Literacy and Economic Opportunity Act of 2015 This bill amends the Internal Revenue Code to allow up to 20 for-profit organizations in any taxable year a business-related tax credit for 50% of the amount paid or incurred to carry out activities to improve the quality of student understanding of personal finance and economics. The Department of the Treasury shall determine which for-profit organizations are eligible for the credit, ensuring that a majority of credit recipients are: (1) either a socially and economically disadvantaged small business concern, a small business concern owned and controlled by women, or a small business concern that is at least 51% owned by veterans, or (2) do not have more than $60 billion in assets. In determining the eligibility of a for-profit organization, Treasury shall give priority to organizations that have programs serving either urban or rural underserved areas. \",\n          \"Federal Forage Fee Act of 1993 - Subjects grazing operations on Federal land to applicable Federal, State, and local environmental and land use requirements. \\nSets forth a forage fee formula for lands under the jurisdiction of the Department of Agriculture and the Department of the Interior.\",\n          \"Prescription Drug Monitoring Act of 2016 This bill requires a state that receives grant funds under the prescription drug monitoring program (PDMP) or the controlled substance monitoring program to comply with specified requirements. The Department of Justice (DOJ) or Department of Health and Human Services may withhold grant funds from a state that fails to comply.  Additionally, the bill requires a state to share its PDMP data with other states through a data-sharing hub established by DOJ. \"\n        ],\n        \"semantic_type\": \"\",\n        \"description\": \"\"\n      }\n    },\n    {\n      \"column\": \"original_model_summaries\",\n      \"properties\": {\n        \"dtype\": \"string\",\n        \"num_unique_values\": 10,\n        \"samples\": [\n          \"A bill to amend the Internal Revenue Code of 1986 to provide for the provision of credit for profit organizations for taxable years.\",\n          \"A bill to provide for the fee for the Federal forage lease.\",\n          \"This Act provides for the establishment of a data-sharing single hub to provide for the sharing of data and information between States.\"\n        ],\n        \"semantic_type\": \"\",\n        \"description\": \"\"\n      }\n    },\n    {\n      \"column\": \"fine_tuned_summaries\",\n      \"properties\": {\n        \"dtype\": \"string\",\n        \"num_unique_values\": 10,\n        \"samples\": [\n          \"A bill to amend chapter 45 of the Internal Revenue Code of 1986 to provide for the provision of credit for educational programs for students that promote economic and financial literacy.\",\n          \"A bill to amend title 10, United States Code, to provide for the Federal forage fee to be calculated annually.\",\n          \"A bill to provide for the establishment of a data-sharing single technology solution to facilitate the sharing of data among States and the accessing of such data by practitioners.\"\n        ],\n        \"semantic_type\": \"\",\n        \"description\": \"\"\n      }\n    },\n    {\n      \"column\": \"peft_model_summaries\",\n      \"properties\": {\n        \"dtype\": \"string\",\n        \"num_unique_values\": 10,\n        \"samples\": [\n          \"This Act provides for the establishment of a credit program for the education of students that promote economic and financial literacy.\",\n          \"A bill to amend title 10, United States Code, to provide for the Federal forage fee.\",\n          \"A bill to provide for the establishment of a data-sharing single technology solution to facilitate the sharing of data among States and the accessing of such data by practitioners.\"\n        ],\n        \"semantic_type\": \"\",\n        \"description\": \"\"\n      }\n    }\n  ]\n}"
            }
          },
          "metadata": {},
          "execution_count": 34
        }
      ],
      "source": [
        "bill_texts = dataset['test'][0:10]['text']\n",
        "human_baseline_summaries = dataset['test'][0:10]['summary']\n",
        "\n",
        "original_model_summaries = []\n",
        "fine_tuned_model_summaries = []\n",
        "peft_model_summaries = []\n",
        "\n",
        "for _, bill_text in enumerate(bill_texts):\n",
        "    prompt = f\"\"\"\n",
        "Summarize the following bill text.\n",
        "\n",
        "{bill_text}\n",
        "\n",
        "Summary: \"\"\"\n",
        "    input_ids = tokenizer(prompt, return_tensors=\"pt\").input_ids\n",
        "    input_ids = input_ids.to(original_model.device)\n",
        "\n",
        "    original_model_outputs = original_model.generate(input_ids=input_ids, generation_config=GenerationConfig(max_new_tokens=200))\n",
        "    original_model_text_output = tokenizer.decode(original_model_outputs[0], skip_special_tokens=True)\n",
        "    original_model_summaries.append(original_model_text_output)\n",
        "\n",
        "\n",
        "    input_ids = input_ids.to(fine_tuned_model.device)\n",
        "    fine_tuned_model_outputs = fine_tuned_model.generate(input_ids=input_ids, generation_config=GenerationConfig(max_new_tokens=200))\n",
        "    fine_tuned_model_text_output = tokenizer.decode(fine_tuned_model_outputs[0], skip_special_tokens=True)\n",
        "    fine_tuned_model_summaries.append(fine_tuned_model_text_output)\n",
        "\n",
        "    input_ids = input_ids.to(peft_model.device)\n",
        "    peft_model_outputs = peft_model.generate(input_ids=input_ids, generation_config=GenerationConfig(max_new_tokens=200))\n",
        "    peft_model_text_output = tokenizer.decode(peft_model_outputs[0], skip_special_tokens=True)\n",
        "    peft_model_summaries.append(peft_model_text_output)\n",
        "\n",
        "zipped_summaries = list(zip(human_baseline_summaries, original_model_summaries, fine_tuned_model_summaries, peft_model_summaries))\n",
        "\n",
        "df2 = pd.DataFrame(zipped_summaries, columns = ['human_baseline_summaries', 'original_model_summaries', 'fine_tuned_model_summaries', 'peft_model_summaries'])\n",
        "df2"
      ]
    },
    {
      "cell_type": "code",
      "execution_count": null,
      "metadata": {
        "tags": [],
        "id": "6XUvKCRQdgWT",
        "colab": {
          "base_uri": "https://localhost:8080/"
        },
        "outputId": "f62d5cfa-a001-4eec-f410-65d69f5f894e"
      },
      "outputs": [
        {
          "output_type": "stream",
          "name": "stdout",
          "text": [
            "ORIGINAL MODEL:\n",
            "{'rouge1': 0.19449921018654298, 'rouge2': 0.0943300669240871, 'rougeL': 0.14341939534465825, 'rougeLsum': 0.15570374754374375}\n",
            "FINE TUNED MODEL:\n",
            "{'rouge1': 0.24380716305340505, 'rouge2': 0.0948423534248077, 'rougeL': 0.18826470804907652, 'rougeLsum': 0.19613854731762947}\n",
            "PEFT MODEL:\n",
            "{'rouge1': 0.25814830188158255, 'rouge2': 0.11581706462735133, 'rougeL': 0.1948476873453055, 'rougeLsum': 0.19889589027019156}\n"
          ]
        }
      ],
      "source": [
        "rouge = evaluate.load('rouge')\n",
        "\n",
        "original_model_results = rouge.compute(\n",
        "    predictions=original_model_summaries,\n",
        "    references=human_baseline_summaries[0:len(original_model_summaries)],\n",
        "    use_aggregator=True,\n",
        "    use_stemmer=True,\n",
        ")\n",
        "\n",
        "fine_tuned_model_results = rouge.compute(\n",
        "    predictions=fine_tuned_model_summaries,\n",
        "    references=human_baseline_summaries[0:len(fine_tuned_model_summaries)],\n",
        "    use_aggregator=True,\n",
        "    use_stemmer=True,\n",
        ")\n",
        "\n",
        "peft_model_results = rouge.compute(\n",
        "    predictions=peft_model_summaries,\n",
        "    references=human_baseline_summaries[0:len(peft_model_summaries)],\n",
        "    use_aggregator=True,\n",
        "    use_stemmer=True,\n",
        ")\n",
        "\n",
        "print('ORIGINAL MODEL:')\n",
        "print(original_model_results)\n",
        "print('FINE TUNED MODEL:')\n",
        "print(fine_tuned_model_results)\n",
        "print('PEFT MODEL:')\n",
        "print(peft_model_results)"
      ]
    },
    {
      "cell_type": "markdown",
      "metadata": {
        "id": "9mGhY0BPdgWT"
      },
      "source": [
        "Notice, that PEFT model results are not too bad, while the training process was much easier!"
      ]
    },
    {
      "cell_type": "code",
      "execution_count": null,
      "metadata": {
        "tags": [],
        "id": "CM14aAGAdgWU",
        "colab": {
          "base_uri": "https://localhost:8080/"
        },
        "outputId": "35fb1ef8-8836-4084-be0d-625c63ab4a1e"
      },
      "outputs": [
        {
          "output_type": "stream",
          "name": "stdout",
          "text": [
            "Absolute percentage improvement of PEFT MODEL over ORIGINAL MODEL\n",
            "rouge1: 6.36%\n",
            "rouge2: 2.15%\n",
            "rougeL: 5.14%\n",
            "rougeLsum: 4.32%\n"
          ]
        }
      ],
      "source": [
        "print(\"Absolute percentage improvement of PEFT MODEL over ORIGINAL MODEL\")\n",
        "\n",
        "# Calculate the percentage improvement for each metric\n",
        "improvements = {\n",
        "    key: (fine_tuned_model_results[key] - original_model_results[key]) * 100\n",
        "    for key in fine_tuned_model_results.keys()\n",
        "}\n",
        "\n",
        "# Print the improvements for each metric\n",
        "for metric, improvement in improvements.items():\n",
        "    print(f\"{metric}: {improvement:.2f}%\")"
      ]
    },
    {
      "cell_type": "markdown",
      "metadata": {
        "id": "dw9em0BCdgWU"
      },
      "source": [
        "Here, you observe a slight decrease in the ROUGE metrics compared to the fully fine-tuned model. However, the training process is significantly more resource-efficient, requiring much less computing power and memory—often achievable with just a single GPU."
      ]
    }
  ],
  "metadata": {
    "availableInstances": [
      {
        "_defaultOrder": 0,
        "_isFastLaunch": true,
        "category": "General purpose",
        "gpuNum": 0,
        "hideHardwareSpecs": false,
        "memoryGiB": 4,
        "name": "ml.t3.medium",
        "vcpuNum": 2
      },
      {
        "_defaultOrder": 1,
        "_isFastLaunch": false,
        "category": "General purpose",
        "gpuNum": 0,
        "hideHardwareSpecs": false,
        "memoryGiB": 8,
        "name": "ml.t3.large",
        "vcpuNum": 2
      },
      {
        "_defaultOrder": 2,
        "_isFastLaunch": false,
        "category": "General purpose",
        "gpuNum": 0,
        "hideHardwareSpecs": false,
        "memoryGiB": 16,
        "name": "ml.t3.xlarge",
        "vcpuNum": 4
      },
      {
        "_defaultOrder": 3,
        "_isFastLaunch": false,
        "category": "General purpose",
        "gpuNum": 0,
        "hideHardwareSpecs": false,
        "memoryGiB": 32,
        "name": "ml.t3.2xlarge",
        "vcpuNum": 8
      },
      {
        "_defaultOrder": 4,
        "_isFastLaunch": true,
        "category": "General purpose",
        "gpuNum": 0,
        "hideHardwareSpecs": false,
        "memoryGiB": 8,
        "name": "ml.m5.large",
        "vcpuNum": 2
      },
      {
        "_defaultOrder": 5,
        "_isFastLaunch": false,
        "category": "General purpose",
        "gpuNum": 0,
        "hideHardwareSpecs": false,
        "memoryGiB": 16,
        "name": "ml.m5.xlarge",
        "vcpuNum": 4
      },
      {
        "_defaultOrder": 6,
        "_isFastLaunch": false,
        "category": "General purpose",
        "gpuNum": 0,
        "hideHardwareSpecs": false,
        "memoryGiB": 32,
        "name": "ml.m5.2xlarge",
        "vcpuNum": 8
      },
      {
        "_defaultOrder": 7,
        "_isFastLaunch": false,
        "category": "General purpose",
        "gpuNum": 0,
        "hideHardwareSpecs": false,
        "memoryGiB": 64,
        "name": "ml.m5.4xlarge",
        "vcpuNum": 16
      },
      {
        "_defaultOrder": 8,
        "_isFastLaunch": false,
        "category": "General purpose",
        "gpuNum": 0,
        "hideHardwareSpecs": false,
        "memoryGiB": 128,
        "name": "ml.m5.8xlarge",
        "vcpuNum": 32
      },
      {
        "_defaultOrder": 9,
        "_isFastLaunch": false,
        "category": "General purpose",
        "gpuNum": 0,
        "hideHardwareSpecs": false,
        "memoryGiB": 192,
        "name": "ml.m5.12xlarge",
        "vcpuNum": 48
      },
      {
        "_defaultOrder": 10,
        "_isFastLaunch": false,
        "category": "General purpose",
        "gpuNum": 0,
        "hideHardwareSpecs": false,
        "memoryGiB": 256,
        "name": "ml.m5.16xlarge",
        "vcpuNum": 64
      },
      {
        "_defaultOrder": 11,
        "_isFastLaunch": false,
        "category": "General purpose",
        "gpuNum": 0,
        "hideHardwareSpecs": false,
        "memoryGiB": 384,
        "name": "ml.m5.24xlarge",
        "vcpuNum": 96
      },
      {
        "_defaultOrder": 12,
        "_isFastLaunch": false,
        "category": "General purpose",
        "gpuNum": 0,
        "hideHardwareSpecs": false,
        "memoryGiB": 8,
        "name": "ml.m5d.large",
        "vcpuNum": 2
      },
      {
        "_defaultOrder": 13,
        "_isFastLaunch": false,
        "category": "General purpose",
        "gpuNum": 0,
        "hideHardwareSpecs": false,
        "memoryGiB": 16,
        "name": "ml.m5d.xlarge",
        "vcpuNum": 4
      },
      {
        "_defaultOrder": 14,
        "_isFastLaunch": false,
        "category": "General purpose",
        "gpuNum": 0,
        "hideHardwareSpecs": false,
        "memoryGiB": 32,
        "name": "ml.m5d.2xlarge",
        "vcpuNum": 8
      },
      {
        "_defaultOrder": 15,
        "_isFastLaunch": false,
        "category": "General purpose",
        "gpuNum": 0,
        "hideHardwareSpecs": false,
        "memoryGiB": 64,
        "name": "ml.m5d.4xlarge",
        "vcpuNum": 16
      },
      {
        "_defaultOrder": 16,
        "_isFastLaunch": false,
        "category": "General purpose",
        "gpuNum": 0,
        "hideHardwareSpecs": false,
        "memoryGiB": 128,
        "name": "ml.m5d.8xlarge",
        "vcpuNum": 32
      },
      {
        "_defaultOrder": 17,
        "_isFastLaunch": false,
        "category": "General purpose",
        "gpuNum": 0,
        "hideHardwareSpecs": false,
        "memoryGiB": 192,
        "name": "ml.m5d.12xlarge",
        "vcpuNum": 48
      },
      {
        "_defaultOrder": 18,
        "_isFastLaunch": false,
        "category": "General purpose",
        "gpuNum": 0,
        "hideHardwareSpecs": false,
        "memoryGiB": 256,
        "name": "ml.m5d.16xlarge",
        "vcpuNum": 64
      },
      {
        "_defaultOrder": 19,
        "_isFastLaunch": false,
        "category": "General purpose",
        "gpuNum": 0,
        "hideHardwareSpecs": false,
        "memoryGiB": 384,
        "name": "ml.m5d.24xlarge",
        "vcpuNum": 96
      },
      {
        "_defaultOrder": 20,
        "_isFastLaunch": false,
        "category": "General purpose",
        "gpuNum": 0,
        "hideHardwareSpecs": true,
        "memoryGiB": 0,
        "name": "ml.geospatial.interactive",
        "supportedImageNames": [
          "sagemaker-geospatial-v1-0"
        ],
        "vcpuNum": 0
      },
      {
        "_defaultOrder": 21,
        "_isFastLaunch": true,
        "category": "Compute optimized",
        "gpuNum": 0,
        "hideHardwareSpecs": false,
        "memoryGiB": 4,
        "name": "ml.c5.large",
        "vcpuNum": 2
      },
      {
        "_defaultOrder": 22,
        "_isFastLaunch": false,
        "category": "Compute optimized",
        "gpuNum": 0,
        "hideHardwareSpecs": false,
        "memoryGiB": 8,
        "name": "ml.c5.xlarge",
        "vcpuNum": 4
      },
      {
        "_defaultOrder": 23,
        "_isFastLaunch": false,
        "category": "Compute optimized",
        "gpuNum": 0,
        "hideHardwareSpecs": false,
        "memoryGiB": 16,
        "name": "ml.c5.2xlarge",
        "vcpuNum": 8
      },
      {
        "_defaultOrder": 24,
        "_isFastLaunch": false,
        "category": "Compute optimized",
        "gpuNum": 0,
        "hideHardwareSpecs": false,
        "memoryGiB": 32,
        "name": "ml.c5.4xlarge",
        "vcpuNum": 16
      },
      {
        "_defaultOrder": 25,
        "_isFastLaunch": false,
        "category": "Compute optimized",
        "gpuNum": 0,
        "hideHardwareSpecs": false,
        "memoryGiB": 72,
        "name": "ml.c5.9xlarge",
        "vcpuNum": 36
      },
      {
        "_defaultOrder": 26,
        "_isFastLaunch": false,
        "category": "Compute optimized",
        "gpuNum": 0,
        "hideHardwareSpecs": false,
        "memoryGiB": 96,
        "name": "ml.c5.12xlarge",
        "vcpuNum": 48
      },
      {
        "_defaultOrder": 27,
        "_isFastLaunch": false,
        "category": "Compute optimized",
        "gpuNum": 0,
        "hideHardwareSpecs": false,
        "memoryGiB": 144,
        "name": "ml.c5.18xlarge",
        "vcpuNum": 72
      },
      {
        "_defaultOrder": 28,
        "_isFastLaunch": false,
        "category": "Compute optimized",
        "gpuNum": 0,
        "hideHardwareSpecs": false,
        "memoryGiB": 192,
        "name": "ml.c5.24xlarge",
        "vcpuNum": 96
      },
      {
        "_defaultOrder": 29,
        "_isFastLaunch": true,
        "category": "Accelerated computing",
        "gpuNum": 1,
        "hideHardwareSpecs": false,
        "memoryGiB": 16,
        "name": "ml.g4dn.xlarge",
        "vcpuNum": 4
      },
      {
        "_defaultOrder": 30,
        "_isFastLaunch": false,
        "category": "Accelerated computing",
        "gpuNum": 1,
        "hideHardwareSpecs": false,
        "memoryGiB": 32,
        "name": "ml.g4dn.2xlarge",
        "vcpuNum": 8
      },
      {
        "_defaultOrder": 31,
        "_isFastLaunch": false,
        "category": "Accelerated computing",
        "gpuNum": 1,
        "hideHardwareSpecs": false,
        "memoryGiB": 64,
        "name": "ml.g4dn.4xlarge",
        "vcpuNum": 16
      },
      {
        "_defaultOrder": 32,
        "_isFastLaunch": false,
        "category": "Accelerated computing",
        "gpuNum": 1,
        "hideHardwareSpecs": false,
        "memoryGiB": 128,
        "name": "ml.g4dn.8xlarge",
        "vcpuNum": 32
      },
      {
        "_defaultOrder": 33,
        "_isFastLaunch": false,
        "category": "Accelerated computing",
        "gpuNum": 4,
        "hideHardwareSpecs": false,
        "memoryGiB": 192,
        "name": "ml.g4dn.12xlarge",
        "vcpuNum": 48
      },
      {
        "_defaultOrder": 34,
        "_isFastLaunch": false,
        "category": "Accelerated computing",
        "gpuNum": 1,
        "hideHardwareSpecs": false,
        "memoryGiB": 256,
        "name": "ml.g4dn.16xlarge",
        "vcpuNum": 64
      },
      {
        "_defaultOrder": 35,
        "_isFastLaunch": false,
        "category": "Accelerated computing",
        "gpuNum": 1,
        "hideHardwareSpecs": false,
        "memoryGiB": 61,
        "name": "ml.p3.2xlarge",
        "vcpuNum": 8
      },
      {
        "_defaultOrder": 36,
        "_isFastLaunch": false,
        "category": "Accelerated computing",
        "gpuNum": 4,
        "hideHardwareSpecs": false,
        "memoryGiB": 244,
        "name": "ml.p3.8xlarge",
        "vcpuNum": 32
      },
      {
        "_defaultOrder": 37,
        "_isFastLaunch": false,
        "category": "Accelerated computing",
        "gpuNum": 8,
        "hideHardwareSpecs": false,
        "memoryGiB": 488,
        "name": "ml.p3.16xlarge",
        "vcpuNum": 64
      },
      {
        "_defaultOrder": 38,
        "_isFastLaunch": false,
        "category": "Accelerated computing",
        "gpuNum": 8,
        "hideHardwareSpecs": false,
        "memoryGiB": 768,
        "name": "ml.p3dn.24xlarge",
        "vcpuNum": 96
      },
      {
        "_defaultOrder": 39,
        "_isFastLaunch": false,
        "category": "Memory Optimized",
        "gpuNum": 0,
        "hideHardwareSpecs": false,
        "memoryGiB": 16,
        "name": "ml.r5.large",
        "vcpuNum": 2
      },
      {
        "_defaultOrder": 40,
        "_isFastLaunch": false,
        "category": "Memory Optimized",
        "gpuNum": 0,
        "hideHardwareSpecs": false,
        "memoryGiB": 32,
        "name": "ml.r5.xlarge",
        "vcpuNum": 4
      },
      {
        "_defaultOrder": 41,
        "_isFastLaunch": false,
        "category": "Memory Optimized",
        "gpuNum": 0,
        "hideHardwareSpecs": false,
        "memoryGiB": 64,
        "name": "ml.r5.2xlarge",
        "vcpuNum": 8
      },
      {
        "_defaultOrder": 42,
        "_isFastLaunch": false,
        "category": "Memory Optimized",
        "gpuNum": 0,
        "hideHardwareSpecs": false,
        "memoryGiB": 128,
        "name": "ml.r5.4xlarge",
        "vcpuNum": 16
      },
      {
        "_defaultOrder": 43,
        "_isFastLaunch": false,
        "category": "Memory Optimized",
        "gpuNum": 0,
        "hideHardwareSpecs": false,
        "memoryGiB": 256,
        "name": "ml.r5.8xlarge",
        "vcpuNum": 32
      },
      {
        "_defaultOrder": 44,
        "_isFastLaunch": false,
        "category": "Memory Optimized",
        "gpuNum": 0,
        "hideHardwareSpecs": false,
        "memoryGiB": 384,
        "name": "ml.r5.12xlarge",
        "vcpuNum": 48
      },
      {
        "_defaultOrder": 45,
        "_isFastLaunch": false,
        "category": "Memory Optimized",
        "gpuNum": 0,
        "hideHardwareSpecs": false,
        "memoryGiB": 512,
        "name": "ml.r5.16xlarge",
        "vcpuNum": 64
      },
      {
        "_defaultOrder": 46,
        "_isFastLaunch": false,
        "category": "Memory Optimized",
        "gpuNum": 0,
        "hideHardwareSpecs": false,
        "memoryGiB": 768,
        "name": "ml.r5.24xlarge",
        "vcpuNum": 96
      },
      {
        "_defaultOrder": 47,
        "_isFastLaunch": false,
        "category": "Accelerated computing",
        "gpuNum": 1,
        "hideHardwareSpecs": false,
        "memoryGiB": 16,
        "name": "ml.g5.xlarge",
        "vcpuNum": 4
      },
      {
        "_defaultOrder": 48,
        "_isFastLaunch": false,
        "category": "Accelerated computing",
        "gpuNum": 1,
        "hideHardwareSpecs": false,
        "memoryGiB": 32,
        "name": "ml.g5.2xlarge",
        "vcpuNum": 8
      },
      {
        "_defaultOrder": 49,
        "_isFastLaunch": false,
        "category": "Accelerated computing",
        "gpuNum": 1,
        "hideHardwareSpecs": false,
        "memoryGiB": 64,
        "name": "ml.g5.4xlarge",
        "vcpuNum": 16
      },
      {
        "_defaultOrder": 50,
        "_isFastLaunch": false,
        "category": "Accelerated computing",
        "gpuNum": 1,
        "hideHardwareSpecs": false,
        "memoryGiB": 128,
        "name": "ml.g5.8xlarge",
        "vcpuNum": 32
      },
      {
        "_defaultOrder": 51,
        "_isFastLaunch": false,
        "category": "Accelerated computing",
        "gpuNum": 1,
        "hideHardwareSpecs": false,
        "memoryGiB": 256,
        "name": "ml.g5.16xlarge",
        "vcpuNum": 64
      },
      {
        "_defaultOrder": 52,
        "_isFastLaunch": false,
        "category": "Accelerated computing",
        "gpuNum": 4,
        "hideHardwareSpecs": false,
        "memoryGiB": 192,
        "name": "ml.g5.12xlarge",
        "vcpuNum": 48
      },
      {
        "_defaultOrder": 53,
        "_isFastLaunch": false,
        "category": "Accelerated computing",
        "gpuNum": 4,
        "hideHardwareSpecs": false,
        "memoryGiB": 384,
        "name": "ml.g5.24xlarge",
        "vcpuNum": 96
      },
      {
        "_defaultOrder": 54,
        "_isFastLaunch": false,
        "category": "Accelerated computing",
        "gpuNum": 8,
        "hideHardwareSpecs": false,
        "memoryGiB": 768,
        "name": "ml.g5.48xlarge",
        "vcpuNum": 192
      },
      {
        "_defaultOrder": 55,
        "_isFastLaunch": false,
        "category": "Accelerated computing",
        "gpuNum": 8,
        "hideHardwareSpecs": false,
        "memoryGiB": 1152,
        "name": "ml.p4d.24xlarge",
        "vcpuNum": 96
      },
      {
        "_defaultOrder": 56,
        "_isFastLaunch": false,
        "category": "Accelerated computing",
        "gpuNum": 8,
        "hideHardwareSpecs": false,
        "memoryGiB": 1152,
        "name": "ml.p4de.24xlarge",
        "vcpuNum": 96
      }
    ],
    "colab": {
      "provenance": [],
      "gpuType": "T4",
      "toc_visible": true
    },
    "instance_type": "ml.m5.2xlarge",
    "kernelspec": {
      "display_name": "Python 3 (Data Science)",
      "language": "python",
      "name": "python3__SAGEMAKER_INTERNAL__arn:aws:sagemaker:us-east-1:081325390199:image/datascience-1.0"
    },
    "language_info": {
      "codemirror_mode": {
        "name": "ipython",
        "version": 3
      },
      "file_extension": ".py",
      "mimetype": "text/x-python",
      "name": "python",
      "nbconvert_exporter": "python",
      "pygments_lexer": "ipython3",
      "version": "3.7.10"
    },
    "vscode": {
      "interpreter": {
        "hash": "aee8b7b246df8f9039afb4144a1f6fd8d2ca17a180786b69acc140d282b71a49"
      }
    },
    "accelerator": "GPU",
    "widgets": {
      "application/vnd.jupyter.widget-state+json": {
        "07b1b8d9161f4343aae74857b78a14bd": {
          "model_module": "@jupyter-widgets/controls",
          "model_name": "HBoxModel",
          "model_module_version": "1.5.0",
          "state": {
            "_dom_classes": [],
            "_model_module": "@jupyter-widgets/controls",
            "_model_module_version": "1.5.0",
            "_model_name": "HBoxModel",
            "_view_count": null,
            "_view_module": "@jupyter-widgets/controls",
            "_view_module_version": "1.5.0",
            "_view_name": "HBoxView",
            "box_style": "",
            "children": [
              "IPY_MODEL_fe391ca29cdc4918bdc8d65503f90a2e",
              "IPY_MODEL_d01257939a2643bbac436fdb585e2924",
              "IPY_MODEL_d8e977bd2698451a8a9fe3552162d8ce"
            ],
            "layout": "IPY_MODEL_b9022e013f884bf2afc2d3176daabb1e"
          }
        },
        "fe391ca29cdc4918bdc8d65503f90a2e": {
          "model_module": "@jupyter-widgets/controls",
          "model_name": "HTMLModel",
          "model_module_version": "1.5.0",
          "state": {
            "_dom_classes": [],
            "_model_module": "@jupyter-widgets/controls",
            "_model_module_version": "1.5.0",
            "_model_name": "HTMLModel",
            "_view_count": null,
            "_view_module": "@jupyter-widgets/controls",
            "_view_module_version": "1.5.0",
            "_view_name": "HTMLView",
            "description": "",
            "description_tooltip": null,
            "layout": "IPY_MODEL_e93f2f9c8dda40e29bf3ea5eabbc74f7",
            "placeholder": "​",
            "style": "IPY_MODEL_28cb9579bbd64939b56f89c58002d300",
            "value": "Map: 100%"
          }
        },
        "d01257939a2643bbac436fdb585e2924": {
          "model_module": "@jupyter-widgets/controls",
          "model_name": "FloatProgressModel",
          "model_module_version": "1.5.0",
          "state": {
            "_dom_classes": [],
            "_model_module": "@jupyter-widgets/controls",
            "_model_module_version": "1.5.0",
            "_model_name": "FloatProgressModel",
            "_view_count": null,
            "_view_module": "@jupyter-widgets/controls",
            "_view_module_version": "1.5.0",
            "_view_name": "ProgressView",
            "bar_style": "success",
            "description": "",
            "description_tooltip": null,
            "layout": "IPY_MODEL_68fecca900364f16bd50b026282c6b90",
            "max": 3269,
            "min": 0,
            "orientation": "horizontal",
            "style": "IPY_MODEL_ad7d6e938b8d4f12a2a67fbb6414030d",
            "value": 3269
          }
        },
        "d8e977bd2698451a8a9fe3552162d8ce": {
          "model_module": "@jupyter-widgets/controls",
          "model_name": "HTMLModel",
          "model_module_version": "1.5.0",
          "state": {
            "_dom_classes": [],
            "_model_module": "@jupyter-widgets/controls",
            "_model_module_version": "1.5.0",
            "_model_name": "HTMLModel",
            "_view_count": null,
            "_view_module": "@jupyter-widgets/controls",
            "_view_module_version": "1.5.0",
            "_view_name": "HTMLView",
            "description": "",
            "description_tooltip": null,
            "layout": "IPY_MODEL_8a1210ccf4f94b32952720e14eb136c4",
            "placeholder": "​",
            "style": "IPY_MODEL_87bd47212d72448fa4ec078b0463c7d4",
            "value": " 3269/3269 [00:19&lt;00:00, 171.72 examples/s]"
          }
        },
        "b9022e013f884bf2afc2d3176daabb1e": {
          "model_module": "@jupyter-widgets/base",
          "model_name": "LayoutModel",
          "model_module_version": "1.2.0",
          "state": {
            "_model_module": "@jupyter-widgets/base",
            "_model_module_version": "1.2.0",
            "_model_name": "LayoutModel",
            "_view_count": null,
            "_view_module": "@jupyter-widgets/base",
            "_view_module_version": "1.2.0",
            "_view_name": "LayoutView",
            "align_content": null,
            "align_items": null,
            "align_self": null,
            "border": null,
            "bottom": null,
            "display": null,
            "flex": null,
            "flex_flow": null,
            "grid_area": null,
            "grid_auto_columns": null,
            "grid_auto_flow": null,
            "grid_auto_rows": null,
            "grid_column": null,
            "grid_gap": null,
            "grid_row": null,
            "grid_template_areas": null,
            "grid_template_columns": null,
            "grid_template_rows": null,
            "height": null,
            "justify_content": null,
            "justify_items": null,
            "left": null,
            "margin": null,
            "max_height": null,
            "max_width": null,
            "min_height": null,
            "min_width": null,
            "object_fit": null,
            "object_position": null,
            "order": null,
            "overflow": null,
            "overflow_x": null,
            "overflow_y": null,
            "padding": null,
            "right": null,
            "top": null,
            "visibility": null,
            "width": null
          }
        },
        "e93f2f9c8dda40e29bf3ea5eabbc74f7": {
          "model_module": "@jupyter-widgets/base",
          "model_name": "LayoutModel",
          "model_module_version": "1.2.0",
          "state": {
            "_model_module": "@jupyter-widgets/base",
            "_model_module_version": "1.2.0",
            "_model_name": "LayoutModel",
            "_view_count": null,
            "_view_module": "@jupyter-widgets/base",
            "_view_module_version": "1.2.0",
            "_view_name": "LayoutView",
            "align_content": null,
            "align_items": null,
            "align_self": null,
            "border": null,
            "bottom": null,
            "display": null,
            "flex": null,
            "flex_flow": null,
            "grid_area": null,
            "grid_auto_columns": null,
            "grid_auto_flow": null,
            "grid_auto_rows": null,
            "grid_column": null,
            "grid_gap": null,
            "grid_row": null,
            "grid_template_areas": null,
            "grid_template_columns": null,
            "grid_template_rows": null,
            "height": null,
            "justify_content": null,
            "justify_items": null,
            "left": null,
            "margin": null,
            "max_height": null,
            "max_width": null,
            "min_height": null,
            "min_width": null,
            "object_fit": null,
            "object_position": null,
            "order": null,
            "overflow": null,
            "overflow_x": null,
            "overflow_y": null,
            "padding": null,
            "right": null,
            "top": null,
            "visibility": null,
            "width": null
          }
        },
        "28cb9579bbd64939b56f89c58002d300": {
          "model_module": "@jupyter-widgets/controls",
          "model_name": "DescriptionStyleModel",
          "model_module_version": "1.5.0",
          "state": {
            "_model_module": "@jupyter-widgets/controls",
            "_model_module_version": "1.5.0",
            "_model_name": "DescriptionStyleModel",
            "_view_count": null,
            "_view_module": "@jupyter-widgets/base",
            "_view_module_version": "1.2.0",
            "_view_name": "StyleView",
            "description_width": ""
          }
        },
        "68fecca900364f16bd50b026282c6b90": {
          "model_module": "@jupyter-widgets/base",
          "model_name": "LayoutModel",
          "model_module_version": "1.2.0",
          "state": {
            "_model_module": "@jupyter-widgets/base",
            "_model_module_version": "1.2.0",
            "_model_name": "LayoutModel",
            "_view_count": null,
            "_view_module": "@jupyter-widgets/base",
            "_view_module_version": "1.2.0",
            "_view_name": "LayoutView",
            "align_content": null,
            "align_items": null,
            "align_self": null,
            "border": null,
            "bottom": null,
            "display": null,
            "flex": null,
            "flex_flow": null,
            "grid_area": null,
            "grid_auto_columns": null,
            "grid_auto_flow": null,
            "grid_auto_rows": null,
            "grid_column": null,
            "grid_gap": null,
            "grid_row": null,
            "grid_template_areas": null,
            "grid_template_columns": null,
            "grid_template_rows": null,
            "height": null,
            "justify_content": null,
            "justify_items": null,
            "left": null,
            "margin": null,
            "max_height": null,
            "max_width": null,
            "min_height": null,
            "min_width": null,
            "object_fit": null,
            "object_position": null,
            "order": null,
            "overflow": null,
            "overflow_x": null,
            "overflow_y": null,
            "padding": null,
            "right": null,
            "top": null,
            "visibility": null,
            "width": null
          }
        },
        "ad7d6e938b8d4f12a2a67fbb6414030d": {
          "model_module": "@jupyter-widgets/controls",
          "model_name": "ProgressStyleModel",
          "model_module_version": "1.5.0",
          "state": {
            "_model_module": "@jupyter-widgets/controls",
            "_model_module_version": "1.5.0",
            "_model_name": "ProgressStyleModel",
            "_view_count": null,
            "_view_module": "@jupyter-widgets/base",
            "_view_module_version": "1.2.0",
            "_view_name": "StyleView",
            "bar_color": null,
            "description_width": ""
          }
        },
        "8a1210ccf4f94b32952720e14eb136c4": {
          "model_module": "@jupyter-widgets/base",
          "model_name": "LayoutModel",
          "model_module_version": "1.2.0",
          "state": {
            "_model_module": "@jupyter-widgets/base",
            "_model_module_version": "1.2.0",
            "_model_name": "LayoutModel",
            "_view_count": null,
            "_view_module": "@jupyter-widgets/base",
            "_view_module_version": "1.2.0",
            "_view_name": "LayoutView",
            "align_content": null,
            "align_items": null,
            "align_self": null,
            "border": null,
            "bottom": null,
            "display": null,
            "flex": null,
            "flex_flow": null,
            "grid_area": null,
            "grid_auto_columns": null,
            "grid_auto_flow": null,
            "grid_auto_rows": null,
            "grid_column": null,
            "grid_gap": null,
            "grid_row": null,
            "grid_template_areas": null,
            "grid_template_columns": null,
            "grid_template_rows": null,
            "height": null,
            "justify_content": null,
            "justify_items": null,
            "left": null,
            "margin": null,
            "max_height": null,
            "max_width": null,
            "min_height": null,
            "min_width": null,
            "object_fit": null,
            "object_position": null,
            "order": null,
            "overflow": null,
            "overflow_x": null,
            "overflow_y": null,
            "padding": null,
            "right": null,
            "top": null,
            "visibility": null,
            "width": null
          }
        },
        "87bd47212d72448fa4ec078b0463c7d4": {
          "model_module": "@jupyter-widgets/controls",
          "model_name": "DescriptionStyleModel",
          "model_module_version": "1.5.0",
          "state": {
            "_model_module": "@jupyter-widgets/controls",
            "_model_module_version": "1.5.0",
            "_model_name": "DescriptionStyleModel",
            "_view_count": null,
            "_view_module": "@jupyter-widgets/base",
            "_view_module_version": "1.2.0",
            "_view_name": "StyleView",
            "description_width": ""
          }
        },
        "36841176845045c3b7453851bd8a18f7": {
          "model_module": "@jupyter-widgets/controls",
          "model_name": "HBoxModel",
          "model_module_version": "1.5.0",
          "state": {
            "_dom_classes": [],
            "_model_module": "@jupyter-widgets/controls",
            "_model_module_version": "1.5.0",
            "_model_name": "HBoxModel",
            "_view_count": null,
            "_view_module": "@jupyter-widgets/controls",
            "_view_module_version": "1.5.0",
            "_view_name": "HBoxView",
            "box_style": "",
            "children": [
              "IPY_MODEL_18c2c3901edb43e998f362d99d7c0d20",
              "IPY_MODEL_20468aad6c1b475ba95636b5ed4434a4",
              "IPY_MODEL_c691f9ddcc1740018a6381a0fa5a7152"
            ],
            "layout": "IPY_MODEL_be697cf7590543bf881171eee083bd1e"
          }
        },
        "18c2c3901edb43e998f362d99d7c0d20": {
          "model_module": "@jupyter-widgets/controls",
          "model_name": "HTMLModel",
          "model_module_version": "1.5.0",
          "state": {
            "_dom_classes": [],
            "_model_module": "@jupyter-widgets/controls",
            "_model_module_version": "1.5.0",
            "_model_name": "HTMLModel",
            "_view_count": null,
            "_view_module": "@jupyter-widgets/controls",
            "_view_module_version": "1.5.0",
            "_view_name": "HTMLView",
            "description": "",
            "description_tooltip": null,
            "layout": "IPY_MODEL_3590d27f478248f59ccd2d7f188564e6",
            "placeholder": "​",
            "style": "IPY_MODEL_e98723d411204fcc926f6abd209503ea",
            "value": "Filter: 100%"
          }
        },
        "20468aad6c1b475ba95636b5ed4434a4": {
          "model_module": "@jupyter-widgets/controls",
          "model_name": "FloatProgressModel",
          "model_module_version": "1.5.0",
          "state": {
            "_dom_classes": [],
            "_model_module": "@jupyter-widgets/controls",
            "_model_module_version": "1.5.0",
            "_model_name": "FloatProgressModel",
            "_view_count": null,
            "_view_module": "@jupyter-widgets/controls",
            "_view_module_version": "1.5.0",
            "_view_name": "ProgressView",
            "bar_style": "success",
            "description": "",
            "description_tooltip": null,
            "layout": "IPY_MODEL_07770c8777f8431eaff5f0512d05254f",
            "max": 18949,
            "min": 0,
            "orientation": "horizontal",
            "style": "IPY_MODEL_9b5d806814514598af9886bdc7092752",
            "value": 18949
          }
        },
        "c691f9ddcc1740018a6381a0fa5a7152": {
          "model_module": "@jupyter-widgets/controls",
          "model_name": "HTMLModel",
          "model_module_version": "1.5.0",
          "state": {
            "_dom_classes": [],
            "_model_module": "@jupyter-widgets/controls",
            "_model_module_version": "1.5.0",
            "_model_name": "HTMLModel",
            "_view_count": null,
            "_view_module": "@jupyter-widgets/controls",
            "_view_module_version": "1.5.0",
            "_view_name": "HTMLView",
            "description": "",
            "description_tooltip": null,
            "layout": "IPY_MODEL_e3821a3663d5423586e1e00af8b8da3c",
            "placeholder": "​",
            "style": "IPY_MODEL_34b430e37ea34c49ac77a0e58974d430",
            "value": " 18949/18949 [00:10&lt;00:00, 1713.04 examples/s]"
          }
        },
        "be697cf7590543bf881171eee083bd1e": {
          "model_module": "@jupyter-widgets/base",
          "model_name": "LayoutModel",
          "model_module_version": "1.2.0",
          "state": {
            "_model_module": "@jupyter-widgets/base",
            "_model_module_version": "1.2.0",
            "_model_name": "LayoutModel",
            "_view_count": null,
            "_view_module": "@jupyter-widgets/base",
            "_view_module_version": "1.2.0",
            "_view_name": "LayoutView",
            "align_content": null,
            "align_items": null,
            "align_self": null,
            "border": null,
            "bottom": null,
            "display": null,
            "flex": null,
            "flex_flow": null,
            "grid_area": null,
            "grid_auto_columns": null,
            "grid_auto_flow": null,
            "grid_auto_rows": null,
            "grid_column": null,
            "grid_gap": null,
            "grid_row": null,
            "grid_template_areas": null,
            "grid_template_columns": null,
            "grid_template_rows": null,
            "height": null,
            "justify_content": null,
            "justify_items": null,
            "left": null,
            "margin": null,
            "max_height": null,
            "max_width": null,
            "min_height": null,
            "min_width": null,
            "object_fit": null,
            "object_position": null,
            "order": null,
            "overflow": null,
            "overflow_x": null,
            "overflow_y": null,
            "padding": null,
            "right": null,
            "top": null,
            "visibility": null,
            "width": null
          }
        },
        "3590d27f478248f59ccd2d7f188564e6": {
          "model_module": "@jupyter-widgets/base",
          "model_name": "LayoutModel",
          "model_module_version": "1.2.0",
          "state": {
            "_model_module": "@jupyter-widgets/base",
            "_model_module_version": "1.2.0",
            "_model_name": "LayoutModel",
            "_view_count": null,
            "_view_module": "@jupyter-widgets/base",
            "_view_module_version": "1.2.0",
            "_view_name": "LayoutView",
            "align_content": null,
            "align_items": null,
            "align_self": null,
            "border": null,
            "bottom": null,
            "display": null,
            "flex": null,
            "flex_flow": null,
            "grid_area": null,
            "grid_auto_columns": null,
            "grid_auto_flow": null,
            "grid_auto_rows": null,
            "grid_column": null,
            "grid_gap": null,
            "grid_row": null,
            "grid_template_areas": null,
            "grid_template_columns": null,
            "grid_template_rows": null,
            "height": null,
            "justify_content": null,
            "justify_items": null,
            "left": null,
            "margin": null,
            "max_height": null,
            "max_width": null,
            "min_height": null,
            "min_width": null,
            "object_fit": null,
            "object_position": null,
            "order": null,
            "overflow": null,
            "overflow_x": null,
            "overflow_y": null,
            "padding": null,
            "right": null,
            "top": null,
            "visibility": null,
            "width": null
          }
        },
        "e98723d411204fcc926f6abd209503ea": {
          "model_module": "@jupyter-widgets/controls",
          "model_name": "DescriptionStyleModel",
          "model_module_version": "1.5.0",
          "state": {
            "_model_module": "@jupyter-widgets/controls",
            "_model_module_version": "1.5.0",
            "_model_name": "DescriptionStyleModel",
            "_view_count": null,
            "_view_module": "@jupyter-widgets/base",
            "_view_module_version": "1.2.0",
            "_view_name": "StyleView",
            "description_width": ""
          }
        },
        "07770c8777f8431eaff5f0512d05254f": {
          "model_module": "@jupyter-widgets/base",
          "model_name": "LayoutModel",
          "model_module_version": "1.2.0",
          "state": {
            "_model_module": "@jupyter-widgets/base",
            "_model_module_version": "1.2.0",
            "_model_name": "LayoutModel",
            "_view_count": null,
            "_view_module": "@jupyter-widgets/base",
            "_view_module_version": "1.2.0",
            "_view_name": "LayoutView",
            "align_content": null,
            "align_items": null,
            "align_self": null,
            "border": null,
            "bottom": null,
            "display": null,
            "flex": null,
            "flex_flow": null,
            "grid_area": null,
            "grid_auto_columns": null,
            "grid_auto_flow": null,
            "grid_auto_rows": null,
            "grid_column": null,
            "grid_gap": null,
            "grid_row": null,
            "grid_template_areas": null,
            "grid_template_columns": null,
            "grid_template_rows": null,
            "height": null,
            "justify_content": null,
            "justify_items": null,
            "left": null,
            "margin": null,
            "max_height": null,
            "max_width": null,
            "min_height": null,
            "min_width": null,
            "object_fit": null,
            "object_position": null,
            "order": null,
            "overflow": null,
            "overflow_x": null,
            "overflow_y": null,
            "padding": null,
            "right": null,
            "top": null,
            "visibility": null,
            "width": null
          }
        },
        "9b5d806814514598af9886bdc7092752": {
          "model_module": "@jupyter-widgets/controls",
          "model_name": "ProgressStyleModel",
          "model_module_version": "1.5.0",
          "state": {
            "_model_module": "@jupyter-widgets/controls",
            "_model_module_version": "1.5.0",
            "_model_name": "ProgressStyleModel",
            "_view_count": null,
            "_view_module": "@jupyter-widgets/base",
            "_view_module_version": "1.2.0",
            "_view_name": "StyleView",
            "bar_color": null,
            "description_width": ""
          }
        },
        "e3821a3663d5423586e1e00af8b8da3c": {
          "model_module": "@jupyter-widgets/base",
          "model_name": "LayoutModel",
          "model_module_version": "1.2.0",
          "state": {
            "_model_module": "@jupyter-widgets/base",
            "_model_module_version": "1.2.0",
            "_model_name": "LayoutModel",
            "_view_count": null,
            "_view_module": "@jupyter-widgets/base",
            "_view_module_version": "1.2.0",
            "_view_name": "LayoutView",
            "align_content": null,
            "align_items": null,
            "align_self": null,
            "border": null,
            "bottom": null,
            "display": null,
            "flex": null,
            "flex_flow": null,
            "grid_area": null,
            "grid_auto_columns": null,
            "grid_auto_flow": null,
            "grid_auto_rows": null,
            "grid_column": null,
            "grid_gap": null,
            "grid_row": null,
            "grid_template_areas": null,
            "grid_template_columns": null,
            "grid_template_rows": null,
            "height": null,
            "justify_content": null,
            "justify_items": null,
            "left": null,
            "margin": null,
            "max_height": null,
            "max_width": null,
            "min_height": null,
            "min_width": null,
            "object_fit": null,
            "object_position": null,
            "order": null,
            "overflow": null,
            "overflow_x": null,
            "overflow_y": null,
            "padding": null,
            "right": null,
            "top": null,
            "visibility": null,
            "width": null
          }
        },
        "34b430e37ea34c49ac77a0e58974d430": {
          "model_module": "@jupyter-widgets/controls",
          "model_name": "DescriptionStyleModel",
          "model_module_version": "1.5.0",
          "state": {
            "_model_module": "@jupyter-widgets/controls",
            "_model_module_version": "1.5.0",
            "_model_name": "DescriptionStyleModel",
            "_view_count": null,
            "_view_module": "@jupyter-widgets/base",
            "_view_module_version": "1.2.0",
            "_view_name": "StyleView",
            "description_width": ""
          }
        },
        "d5bf9c335b4941aa95a99dec7a5a53a7": {
          "model_module": "@jupyter-widgets/controls",
          "model_name": "HBoxModel",
          "model_module_version": "1.5.0",
          "state": {
            "_dom_classes": [],
            "_model_module": "@jupyter-widgets/controls",
            "_model_module_version": "1.5.0",
            "_model_name": "HBoxModel",
            "_view_count": null,
            "_view_module": "@jupyter-widgets/controls",
            "_view_module_version": "1.5.0",
            "_view_name": "HBoxView",
            "box_style": "",
            "children": [
              "IPY_MODEL_5ca62c88c57040289b301c11c765bee3",
              "IPY_MODEL_6139fcda4d6c4d44ad89bac02d394672",
              "IPY_MODEL_5bef130adb7c4b9295040e3bae62a1cc"
            ],
            "layout": "IPY_MODEL_7cff0d7fc9644cfbad555aa0852b49f8"
          }
        },
        "5ca62c88c57040289b301c11c765bee3": {
          "model_module": "@jupyter-widgets/controls",
          "model_name": "HTMLModel",
          "model_module_version": "1.5.0",
          "state": {
            "_dom_classes": [],
            "_model_module": "@jupyter-widgets/controls",
            "_model_module_version": "1.5.0",
            "_model_name": "HTMLModel",
            "_view_count": null,
            "_view_module": "@jupyter-widgets/controls",
            "_view_module_version": "1.5.0",
            "_view_name": "HTMLView",
            "description": "",
            "description_tooltip": null,
            "layout": "IPY_MODEL_160c8c4ab7bc411384fed8f409052457",
            "placeholder": "​",
            "style": "IPY_MODEL_0439ba2ac0724d00885d299adb9b5834",
            "value": "Filter: 100%"
          }
        },
        "6139fcda4d6c4d44ad89bac02d394672": {
          "model_module": "@jupyter-widgets/controls",
          "model_name": "FloatProgressModel",
          "model_module_version": "1.5.0",
          "state": {
            "_dom_classes": [],
            "_model_module": "@jupyter-widgets/controls",
            "_model_module_version": "1.5.0",
            "_model_name": "FloatProgressModel",
            "_view_count": null,
            "_view_module": "@jupyter-widgets/controls",
            "_view_module_version": "1.5.0",
            "_view_name": "ProgressView",
            "bar_style": "success",
            "description": "",
            "description_tooltip": null,
            "layout": "IPY_MODEL_c5c68be89e9349178fb11d4d22f2144c",
            "max": 3269,
            "min": 0,
            "orientation": "horizontal",
            "style": "IPY_MODEL_00b4b4a230a643f797f3e296a96ca4dc",
            "value": 3269
          }
        },
        "5bef130adb7c4b9295040e3bae62a1cc": {
          "model_module": "@jupyter-widgets/controls",
          "model_name": "HTMLModel",
          "model_module_version": "1.5.0",
          "state": {
            "_dom_classes": [],
            "_model_module": "@jupyter-widgets/controls",
            "_model_module_version": "1.5.0",
            "_model_name": "HTMLModel",
            "_view_count": null,
            "_view_module": "@jupyter-widgets/controls",
            "_view_module_version": "1.5.0",
            "_view_name": "HTMLView",
            "description": "",
            "description_tooltip": null,
            "layout": "IPY_MODEL_24f31ddd8d6a4de1b769bb0531959fdb",
            "placeholder": "​",
            "style": "IPY_MODEL_bc71eccc857041a0966d9b541f96dea3",
            "value": " 3269/3269 [00:01&lt;00:00, 2413.50 examples/s]"
          }
        },
        "7cff0d7fc9644cfbad555aa0852b49f8": {
          "model_module": "@jupyter-widgets/base",
          "model_name": "LayoutModel",
          "model_module_version": "1.2.0",
          "state": {
            "_model_module": "@jupyter-widgets/base",
            "_model_module_version": "1.2.0",
            "_model_name": "LayoutModel",
            "_view_count": null,
            "_view_module": "@jupyter-widgets/base",
            "_view_module_version": "1.2.0",
            "_view_name": "LayoutView",
            "align_content": null,
            "align_items": null,
            "align_self": null,
            "border": null,
            "bottom": null,
            "display": null,
            "flex": null,
            "flex_flow": null,
            "grid_area": null,
            "grid_auto_columns": null,
            "grid_auto_flow": null,
            "grid_auto_rows": null,
            "grid_column": null,
            "grid_gap": null,
            "grid_row": null,
            "grid_template_areas": null,
            "grid_template_columns": null,
            "grid_template_rows": null,
            "height": null,
            "justify_content": null,
            "justify_items": null,
            "left": null,
            "margin": null,
            "max_height": null,
            "max_width": null,
            "min_height": null,
            "min_width": null,
            "object_fit": null,
            "object_position": null,
            "order": null,
            "overflow": null,
            "overflow_x": null,
            "overflow_y": null,
            "padding": null,
            "right": null,
            "top": null,
            "visibility": null,
            "width": null
          }
        },
        "160c8c4ab7bc411384fed8f409052457": {
          "model_module": "@jupyter-widgets/base",
          "model_name": "LayoutModel",
          "model_module_version": "1.2.0",
          "state": {
            "_model_module": "@jupyter-widgets/base",
            "_model_module_version": "1.2.0",
            "_model_name": "LayoutModel",
            "_view_count": null,
            "_view_module": "@jupyter-widgets/base",
            "_view_module_version": "1.2.0",
            "_view_name": "LayoutView",
            "align_content": null,
            "align_items": null,
            "align_self": null,
            "border": null,
            "bottom": null,
            "display": null,
            "flex": null,
            "flex_flow": null,
            "grid_area": null,
            "grid_auto_columns": null,
            "grid_auto_flow": null,
            "grid_auto_rows": null,
            "grid_column": null,
            "grid_gap": null,
            "grid_row": null,
            "grid_template_areas": null,
            "grid_template_columns": null,
            "grid_template_rows": null,
            "height": null,
            "justify_content": null,
            "justify_items": null,
            "left": null,
            "margin": null,
            "max_height": null,
            "max_width": null,
            "min_height": null,
            "min_width": null,
            "object_fit": null,
            "object_position": null,
            "order": null,
            "overflow": null,
            "overflow_x": null,
            "overflow_y": null,
            "padding": null,
            "right": null,
            "top": null,
            "visibility": null,
            "width": null
          }
        },
        "0439ba2ac0724d00885d299adb9b5834": {
          "model_module": "@jupyter-widgets/controls",
          "model_name": "DescriptionStyleModel",
          "model_module_version": "1.5.0",
          "state": {
            "_model_module": "@jupyter-widgets/controls",
            "_model_module_version": "1.5.0",
            "_model_name": "DescriptionStyleModel",
            "_view_count": null,
            "_view_module": "@jupyter-widgets/base",
            "_view_module_version": "1.2.0",
            "_view_name": "StyleView",
            "description_width": ""
          }
        },
        "c5c68be89e9349178fb11d4d22f2144c": {
          "model_module": "@jupyter-widgets/base",
          "model_name": "LayoutModel",
          "model_module_version": "1.2.0",
          "state": {
            "_model_module": "@jupyter-widgets/base",
            "_model_module_version": "1.2.0",
            "_model_name": "LayoutModel",
            "_view_count": null,
            "_view_module": "@jupyter-widgets/base",
            "_view_module_version": "1.2.0",
            "_view_name": "LayoutView",
            "align_content": null,
            "align_items": null,
            "align_self": null,
            "border": null,
            "bottom": null,
            "display": null,
            "flex": null,
            "flex_flow": null,
            "grid_area": null,
            "grid_auto_columns": null,
            "grid_auto_flow": null,
            "grid_auto_rows": null,
            "grid_column": null,
            "grid_gap": null,
            "grid_row": null,
            "grid_template_areas": null,
            "grid_template_columns": null,
            "grid_template_rows": null,
            "height": null,
            "justify_content": null,
            "justify_items": null,
            "left": null,
            "margin": null,
            "max_height": null,
            "max_width": null,
            "min_height": null,
            "min_width": null,
            "object_fit": null,
            "object_position": null,
            "order": null,
            "overflow": null,
            "overflow_x": null,
            "overflow_y": null,
            "padding": null,
            "right": null,
            "top": null,
            "visibility": null,
            "width": null
          }
        },
        "00b4b4a230a643f797f3e296a96ca4dc": {
          "model_module": "@jupyter-widgets/controls",
          "model_name": "ProgressStyleModel",
          "model_module_version": "1.5.0",
          "state": {
            "_model_module": "@jupyter-widgets/controls",
            "_model_module_version": "1.5.0",
            "_model_name": "ProgressStyleModel",
            "_view_count": null,
            "_view_module": "@jupyter-widgets/base",
            "_view_module_version": "1.2.0",
            "_view_name": "StyleView",
            "bar_color": null,
            "description_width": ""
          }
        },
        "24f31ddd8d6a4de1b769bb0531959fdb": {
          "model_module": "@jupyter-widgets/base",
          "model_name": "LayoutModel",
          "model_module_version": "1.2.0",
          "state": {
            "_model_module": "@jupyter-widgets/base",
            "_model_module_version": "1.2.0",
            "_model_name": "LayoutModel",
            "_view_count": null,
            "_view_module": "@jupyter-widgets/base",
            "_view_module_version": "1.2.0",
            "_view_name": "LayoutView",
            "align_content": null,
            "align_items": null,
            "align_self": null,
            "border": null,
            "bottom": null,
            "display": null,
            "flex": null,
            "flex_flow": null,
            "grid_area": null,
            "grid_auto_columns": null,
            "grid_auto_flow": null,
            "grid_auto_rows": null,
            "grid_column": null,
            "grid_gap": null,
            "grid_row": null,
            "grid_template_areas": null,
            "grid_template_columns": null,
            "grid_template_rows": null,
            "height": null,
            "justify_content": null,
            "justify_items": null,
            "left": null,
            "margin": null,
            "max_height": null,
            "max_width": null,
            "min_height": null,
            "min_width": null,
            "object_fit": null,
            "object_position": null,
            "order": null,
            "overflow": null,
            "overflow_x": null,
            "overflow_y": null,
            "padding": null,
            "right": null,
            "top": null,
            "visibility": null,
            "width": null
          }
        },
        "bc71eccc857041a0966d9b541f96dea3": {
          "model_module": "@jupyter-widgets/controls",
          "model_name": "DescriptionStyleModel",
          "model_module_version": "1.5.0",
          "state": {
            "_model_module": "@jupyter-widgets/controls",
            "_model_module_version": "1.5.0",
            "_model_name": "DescriptionStyleModel",
            "_view_count": null,
            "_view_module": "@jupyter-widgets/base",
            "_view_module_version": "1.2.0",
            "_view_name": "StyleView",
            "description_width": ""
          }
        }
      }
    }
  },
  "nbformat": 4,
  "nbformat_minor": 0
}